{
 "cells": [
  {
   "cell_type": "markdown",
   "id": "3d69362c",
   "metadata": {},
   "source": []
  },
  {
   "cell_type": "code",
   "execution_count": 1,
   "id": "cfc7a3ab",
   "metadata": {},
   "outputs": [],
   "source": [
    "import pandas as pd\n",
    "import numpy as np\n",
    "import tensorflow as tf\n",
    "import tensorflow_datasets as tfds\n",
    "import tensorflow_recommenders as tfrs"
   ]
  },
  {
   "cell_type": "code",
   "execution_count": null,
   "id": "15640365",
   "metadata": {},
   "outputs": [],
   "source": []
  },
  {
   "cell_type": "code",
   "execution_count": 162,
   "id": "f6fe7e4f",
   "metadata": {
    "scrolled": true
   },
   "outputs": [
    {
     "name": "stderr",
     "output_type": "stream",
     "text": [
      "c:\\users\\hp\\appdata\\local\\programs\\python\\python37\\lib\\site-packages\\IPython\\core\\interactiveshell.py:3553: DtypeWarning: Columns (4) have mixed types.Specify dtype option on import or set low_memory=False.\n",
      "  exec(code_obj, self.user_global_ns, self.user_ns)\n"
     ]
    }
   ],
   "source": [
    "consumer_data=pd.read_csv(\"data/consumer_transanctions.csv\")\n",
    "platform_data=pd.read_csv(\"data/platform_content.csv\")"
   ]
  },
  {
   "cell_type": "code",
   "execution_count": 3,
   "id": "5103d759",
   "metadata": {
    "scrolled": true
   },
   "outputs": [
    {
     "data": {
      "text/html": [
       "<div>\n",
       "<style scoped>\n",
       "    .dataframe tbody tr th:only-of-type {\n",
       "        vertical-align: middle;\n",
       "    }\n",
       "\n",
       "    .dataframe tbody tr th {\n",
       "        vertical-align: top;\n",
       "    }\n",
       "\n",
       "    .dataframe thead th {\n",
       "        text-align: right;\n",
       "    }\n",
       "</style>\n",
       "<table border=\"1\" class=\"dataframe\">\n",
       "  <thead>\n",
       "    <tr style=\"text-align: right;\">\n",
       "      <th></th>\n",
       "      <th>event_timestamp</th>\n",
       "      <th>interaction_type</th>\n",
       "      <th>item_id</th>\n",
       "      <th>consumer_id</th>\n",
       "      <th>consumer_session_id</th>\n",
       "      <th>consumer_device_info</th>\n",
       "      <th>consumer_location</th>\n",
       "      <th>country</th>\n",
       "    </tr>\n",
       "  </thead>\n",
       "  <tbody>\n",
       "    <tr>\n",
       "      <th>0</th>\n",
       "      <td>1465413032</td>\n",
       "      <td>content_watched</td>\n",
       "      <td>-3499919498720038879</td>\n",
       "      <td>-8845298781299428018</td>\n",
       "      <td>1264196770339959068</td>\n",
       "      <td>NaN</td>\n",
       "      <td>NaN</td>\n",
       "      <td>NaN</td>\n",
       "    </tr>\n",
       "    <tr>\n",
       "      <th>1</th>\n",
       "      <td>1465412560</td>\n",
       "      <td>content_watched</td>\n",
       "      <td>8890720798209849691</td>\n",
       "      <td>-1032019229384696495</td>\n",
       "      <td>3621737643587579081</td>\n",
       "      <td>Mozilla/5.0 (Macintosh; Intel Mac OS X 10_11_2...</td>\n",
       "      <td>NY</td>\n",
       "      <td>US</td>\n",
       "    </tr>\n",
       "    <tr>\n",
       "      <th>2</th>\n",
       "      <td>1465416190</td>\n",
       "      <td>content_watched</td>\n",
       "      <td>310515487419366995</td>\n",
       "      <td>-1130272294246983140</td>\n",
       "      <td>2631864456530402479</td>\n",
       "      <td>NaN</td>\n",
       "      <td>NaN</td>\n",
       "      <td>NaN</td>\n",
       "    </tr>\n",
       "    <tr>\n",
       "      <th>3</th>\n",
       "      <td>1465413895</td>\n",
       "      <td>content_followed</td>\n",
       "      <td>310515487419366995</td>\n",
       "      <td>344280948527967603</td>\n",
       "      <td>-3167637573980064150</td>\n",
       "      <td>NaN</td>\n",
       "      <td>NaN</td>\n",
       "      <td>NaN</td>\n",
       "    </tr>\n",
       "    <tr>\n",
       "      <th>4</th>\n",
       "      <td>1465412290</td>\n",
       "      <td>content_watched</td>\n",
       "      <td>-7820640624231356730</td>\n",
       "      <td>-445337111692715325</td>\n",
       "      <td>561148 1178424124714</td>\n",
       "      <td>NaN</td>\n",
       "      <td>NaN</td>\n",
       "      <td>NaN</td>\n",
       "    </tr>\n",
       "    <tr>\n",
       "      <th>...</th>\n",
       "      <td>...</td>\n",
       "      <td>...</td>\n",
       "      <td>...</td>\n",
       "      <td>...</td>\n",
       "      <td>...</td>\n",
       "      <td>...</td>\n",
       "      <td>...</td>\n",
       "      <td>...</td>\n",
       "    </tr>\n",
       "    <tr>\n",
       "      <th>72307</th>\n",
       "      <td>1485190425</td>\n",
       "      <td>content_liked</td>\n",
       "      <td>-6590819806697898649</td>\n",
       "      <td>-9016528795238256703</td>\n",
       "      <td>8614469745607949425</td>\n",
       "      <td>Mozilla/5.0 (Macintosh; Intel Mac OS X 10_11_4...</td>\n",
       "      <td>MG</td>\n",
       "      <td>BR</td>\n",
       "    </tr>\n",
       "    <tr>\n",
       "      <th>72308</th>\n",
       "      <td>1485190425</td>\n",
       "      <td>content_watched</td>\n",
       "      <td>-5813211845057621660</td>\n",
       "      <td>102305705598210278</td>\n",
       "      <td>5527770709392883642</td>\n",
       "      <td>Mozilla/5.0 (X11; Linux x86_64) AppleWebKit/53...</td>\n",
       "      <td>SP</td>\n",
       "      <td>BR</td>\n",
       "    </tr>\n",
       "    <tr>\n",
       "      <th>72309</th>\n",
       "      <td>1485190072</td>\n",
       "      <td>content_watched</td>\n",
       "      <td>-1999468346928419252</td>\n",
       "      <td>-9196668942822132778</td>\n",
       "      <td>-8300596454915870873</td>\n",
       "      <td>Mozilla/5.0 (Windows NT 10.0; Win64; x64) Appl...</td>\n",
       "      <td>SP</td>\n",
       "      <td>BR</td>\n",
       "    </tr>\n",
       "    <tr>\n",
       "      <th>72310</th>\n",
       "      <td>1485190434</td>\n",
       "      <td>content_watched</td>\n",
       "      <td>-6590819806697898649</td>\n",
       "      <td>-9016528795238256703</td>\n",
       "      <td>8614469745607949425</td>\n",
       "      <td>Mozilla/5.0 (Macintosh; Intel Mac OS X 10_11_4...</td>\n",
       "      <td>MG</td>\n",
       "      <td>BR</td>\n",
       "    </tr>\n",
       "    <tr>\n",
       "      <th>72311</th>\n",
       "      <td>1485187988</td>\n",
       "      <td>content_watched</td>\n",
       "      <td>5669290109546991426</td>\n",
       "      <td>5713241217519616260</td>\n",
       "      <td>6704552481483665372</td>\n",
       "      <td>Mozilla/5.0 (Windows NT 10.0; WOW64) AppleWebK...</td>\n",
       "      <td>MG</td>\n",
       "      <td>BR</td>\n",
       "    </tr>\n",
       "  </tbody>\n",
       "</table>\n",
       "<p>72312 rows × 8 columns</p>\n",
       "</div>"
      ],
      "text/plain": [
       "       event_timestamp  interaction_type              item_id  \\\n",
       "0           1465413032   content_watched -3499919498720038879   \n",
       "1           1465412560   content_watched  8890720798209849691   \n",
       "2           1465416190   content_watched   310515487419366995   \n",
       "3           1465413895  content_followed   310515487419366995   \n",
       "4           1465412290   content_watched -7820640624231356730   \n",
       "...                ...               ...                  ...   \n",
       "72307       1485190425     content_liked -6590819806697898649   \n",
       "72308       1485190425   content_watched -5813211845057621660   \n",
       "72309       1485190072   content_watched -1999468346928419252   \n",
       "72310       1485190434   content_watched -6590819806697898649   \n",
       "72311       1485187988   content_watched  5669290109546991426   \n",
       "\n",
       "               consumer_id   consumer_session_id  \\\n",
       "0     -8845298781299428018   1264196770339959068   \n",
       "1     -1032019229384696495   3621737643587579081   \n",
       "2     -1130272294246983140   2631864456530402479   \n",
       "3       344280948527967603  -3167637573980064150   \n",
       "4      -445337111692715325  561148 1178424124714   \n",
       "...                    ...                   ...   \n",
       "72307 -9016528795238256703   8614469745607949425   \n",
       "72308   102305705598210278   5527770709392883642   \n",
       "72309 -9196668942822132778  -8300596454915870873   \n",
       "72310 -9016528795238256703   8614469745607949425   \n",
       "72311  5713241217519616260   6704552481483665372   \n",
       "\n",
       "                                    consumer_device_info consumer_location  \\\n",
       "0                                                    NaN               NaN   \n",
       "1      Mozilla/5.0 (Macintosh; Intel Mac OS X 10_11_2...                NY   \n",
       "2                                                    NaN               NaN   \n",
       "3                                                    NaN               NaN   \n",
       "4                                                    NaN               NaN   \n",
       "...                                                  ...               ...   \n",
       "72307  Mozilla/5.0 (Macintosh; Intel Mac OS X 10_11_4...                MG   \n",
       "72308  Mozilla/5.0 (X11; Linux x86_64) AppleWebKit/53...                SP   \n",
       "72309  Mozilla/5.0 (Windows NT 10.0; Win64; x64) Appl...                SP   \n",
       "72310  Mozilla/5.0 (Macintosh; Intel Mac OS X 10_11_4...                MG   \n",
       "72311  Mozilla/5.0 (Windows NT 10.0; WOW64) AppleWebK...                MG   \n",
       "\n",
       "      country  \n",
       "0         NaN  \n",
       "1          US  \n",
       "2         NaN  \n",
       "3         NaN  \n",
       "4         NaN  \n",
       "...       ...  \n",
       "72307      BR  \n",
       "72308      BR  \n",
       "72309      BR  \n",
       "72310      BR  \n",
       "72311      BR  \n",
       "\n",
       "[72312 rows x 8 columns]"
      ]
     },
     "execution_count": 3,
     "metadata": {},
     "output_type": "execute_result"
    }
   ],
   "source": [
    "consumer_data"
   ]
  },
  {
   "cell_type": "code",
   "execution_count": 9,
   "id": "2bc816d3",
   "metadata": {},
   "outputs": [
    {
     "data": {
      "text/plain": [
       "content_watched         61086\n",
       "content_liked            5745\n",
       "content_saved            2463\n",
       "content_commented_on     1611\n",
       "content_followed         1407\n",
       "Name: interaction_type, dtype: int64"
      ]
     },
     "execution_count": 9,
     "metadata": {},
     "output_type": "execute_result"
    }
   ],
   "source": [
    "consumer_data.interaction_type.value_counts()"
   ]
  },
  {
   "cell_type": "code",
   "execution_count": 139,
   "id": "9663966c",
   "metadata": {},
   "outputs": [],
   "source": [
    "# We can give rating to the rows based on the interaction_type \n",
    "# after much consideration we decided to give the following ratings to each field ranging 1-5\n",
    "# content_watched          3\n",
    "# content_liked            5\n",
    "# content_saved            2\n",
    "# content_commented_on     4\n",
    "# content_followed         5"
   ]
  },
  {
   "cell_type": "code",
   "execution_count": 5,
   "id": "ddf91452",
   "metadata": {},
   "outputs": [
    {
     "data": {
      "text/plain": [
       "2987"
      ]
     },
     "execution_count": 5,
     "metadata": {},
     "output_type": "execute_result"
    }
   ],
   "source": [
    "consumer_data.item_id.nunique()"
   ]
  },
  {
   "cell_type": "code",
   "execution_count": 6,
   "id": "8b3a6f16",
   "metadata": {},
   "outputs": [
    {
     "data": {
      "text/plain": [
       "1895"
      ]
     },
     "execution_count": 6,
     "metadata": {},
     "output_type": "execute_result"
    }
   ],
   "source": [
    "consumer_data.consumer_id.nunique()"
   ]
  },
  {
   "cell_type": "code",
   "execution_count": 17,
   "id": "39180d2d",
   "metadata": {
    "scrolled": true
   },
   "outputs": [
    {
     "data": {
      "text/plain": [
       "BR    51396\n",
       "US     4657\n",
       "KR      239\n",
       "CA      226\n",
       "JP      144\n",
       "AU      138\n",
       "GB       22\n",
       "DE       19\n",
       "IE       14\n",
       "IS       13\n",
       "ZZ       11\n",
       "SG       11\n",
       "AR        7\n",
       "PT        6\n",
       "ES        3\n",
       "IN        3\n",
       "MY        2\n",
       "IT        2\n",
       "CN        1\n",
       "NL        1\n",
       "CL        1\n",
       "CO        1\n",
       "CH        1\n",
       "Name: country, dtype: int64"
      ]
     },
     "execution_count": 17,
     "metadata": {},
     "output_type": "execute_result"
    }
   ],
   "source": [
    "consumer_data.country.value_counts()"
   ]
  },
  {
   "cell_type": "code",
   "execution_count": 18,
   "id": "191117e9",
   "metadata": {},
   "outputs": [],
   "source": [
    "# based on the above data distribution from consumer table - we only need interaction_type, item_id & consumer_id"
   ]
  },
  {
   "cell_type": "code",
   "execution_count": null,
   "id": "7e3d573b",
   "metadata": {},
   "outputs": [],
   "source": []
  },
  {
   "cell_type": "code",
   "execution_count": 7,
   "id": "356433cb",
   "metadata": {
    "scrolled": true
   },
   "outputs": [
    {
     "data": {
      "text/html": [
       "<div>\n",
       "<style scoped>\n",
       "    .dataframe tbody tr th:only-of-type {\n",
       "        vertical-align: middle;\n",
       "    }\n",
       "\n",
       "    .dataframe tbody tr th {\n",
       "        vertical-align: top;\n",
       "    }\n",
       "\n",
       "    .dataframe thead th {\n",
       "        text-align: right;\n",
       "    }\n",
       "</style>\n",
       "<table border=\"1\" class=\"dataframe\">\n",
       "  <thead>\n",
       "    <tr style=\"text-align: right;\">\n",
       "      <th></th>\n",
       "      <th>event_timestamp</th>\n",
       "      <th>interaction_type</th>\n",
       "      <th>item_id</th>\n",
       "      <th>producer_id</th>\n",
       "      <th>producer_session_id</th>\n",
       "      <th>producer_device_info</th>\n",
       "      <th>producer_location</th>\n",
       "      <th>producer_country</th>\n",
       "      <th>item_type</th>\n",
       "      <th>item_url</th>\n",
       "      <th>title</th>\n",
       "      <th>text_description</th>\n",
       "      <th>language</th>\n",
       "    </tr>\n",
       "  </thead>\n",
       "  <tbody>\n",
       "    <tr>\n",
       "      <th>0</th>\n",
       "      <td>1459192779</td>\n",
       "      <td>content_pulled_out</td>\n",
       "      <td>-6451309518266745024</td>\n",
       "      <td>4340306774493623681</td>\n",
       "      <td>8940341205206233829</td>\n",
       "      <td>NaN</td>\n",
       "      <td>NaN</td>\n",
       "      <td>NaN</td>\n",
       "      <td>HTML</td>\n",
       "      <td>http://www.nytimes.com/2016/03/28/business/dea...</td>\n",
       "      <td>Ethereum, a Virtual Currency, Enables Transact...</td>\n",
       "      <td>All of this work is still very early. The firs...</td>\n",
       "      <td>en</td>\n",
       "    </tr>\n",
       "    <tr>\n",
       "      <th>1</th>\n",
       "      <td>1459193988</td>\n",
       "      <td>content_present</td>\n",
       "      <td>-4110354420726924665</td>\n",
       "      <td>4340306774493623681</td>\n",
       "      <td>8940341205206233829</td>\n",
       "      <td>NaN</td>\n",
       "      <td>NaN</td>\n",
       "      <td>NaN</td>\n",
       "      <td>HTML</td>\n",
       "      <td>http://www.nytimes.com/2016/03/28/business/dea...</td>\n",
       "      <td>Ethereum, a Virtual Currency, Enables Transact...</td>\n",
       "      <td>All of this work is still very early. The firs...</td>\n",
       "      <td>en</td>\n",
       "    </tr>\n",
       "    <tr>\n",
       "      <th>2</th>\n",
       "      <td>1459194146</td>\n",
       "      <td>content_present</td>\n",
       "      <td>-7292285110016212249</td>\n",
       "      <td>4340306774493623681</td>\n",
       "      <td>8940341205206233829</td>\n",
       "      <td>NaN</td>\n",
       "      <td>NaN</td>\n",
       "      <td>NaN</td>\n",
       "      <td>HTML</td>\n",
       "      <td>http://cointelegraph.com/news/bitcoin-future-w...</td>\n",
       "      <td>Bitcoin Future: When GBPcoin of Branson Wins O...</td>\n",
       "      <td>The alarm clock wakes me at 8:00 with stream o...</td>\n",
       "      <td>en</td>\n",
       "    </tr>\n",
       "    <tr>\n",
       "      <th>3</th>\n",
       "      <td>1459194474</td>\n",
       "      <td>content_present</td>\n",
       "      <td>-6151852268067518688</td>\n",
       "      <td>3891637997717104548</td>\n",
       "      <td>-1457532940883382585</td>\n",
       "      <td>NaN</td>\n",
       "      <td>NaN</td>\n",
       "      <td>NaN</td>\n",
       "      <td>HTML</td>\n",
       "      <td>https://cloudplatform.googleblog.com/2016/03/G...</td>\n",
       "      <td>Google Data Center 360° Tour</td>\n",
       "      <td>We're excited to share the Google Data Center ...</td>\n",
       "      <td>en</td>\n",
       "    </tr>\n",
       "    <tr>\n",
       "      <th>4</th>\n",
       "      <td>1459194497</td>\n",
       "      <td>content_present</td>\n",
       "      <td>2448026894306402386</td>\n",
       "      <td>4340306774493623681</td>\n",
       "      <td>8940341205206233829</td>\n",
       "      <td>NaN</td>\n",
       "      <td>NaN</td>\n",
       "      <td>NaN</td>\n",
       "      <td>HTML</td>\n",
       "      <td>https://bitcoinmagazine.com/articles/ibm-wants...</td>\n",
       "      <td>IBM Wants to \"Evolve the Internet\" With Blockc...</td>\n",
       "      <td>The Aite Group projects the blockchain market ...</td>\n",
       "      <td>en</td>\n",
       "    </tr>\n",
       "    <tr>\n",
       "      <th>...</th>\n",
       "      <td>...</td>\n",
       "      <td>...</td>\n",
       "      <td>...</td>\n",
       "      <td>...</td>\n",
       "      <td>...</td>\n",
       "      <td>...</td>\n",
       "      <td>...</td>\n",
       "      <td>...</td>\n",
       "      <td>...</td>\n",
       "      <td>...</td>\n",
       "      <td>...</td>\n",
       "      <td>...</td>\n",
       "      <td>...</td>\n",
       "    </tr>\n",
       "    <tr>\n",
       "      <th>3117</th>\n",
       "      <td>1487946604</td>\n",
       "      <td>content_present</td>\n",
       "      <td>9213260650272029784</td>\n",
       "      <td>3609194402293569455</td>\n",
       "      <td>7144190892417579456</td>\n",
       "      <td>Mozilla/5.0 (Windows NT 10.0; WOW64) AppleWebK...</td>\n",
       "      <td>SP</td>\n",
       "      <td>BR</td>\n",
       "      <td>HTML</td>\n",
       "      <td>https://startupi.com.br/2017/02/liga-ventures-...</td>\n",
       "      <td>Conheça a Liga IoT, plataforma de inovação abe...</td>\n",
       "      <td>A Liga Ventures, aceleradora de startups espec...</td>\n",
       "      <td>pt</td>\n",
       "    </tr>\n",
       "    <tr>\n",
       "      <th>3118</th>\n",
       "      <td>1487947067</td>\n",
       "      <td>content_present</td>\n",
       "      <td>-3295913657316686039</td>\n",
       "      <td>6960073744377754728</td>\n",
       "      <td>-8193630595542572738</td>\n",
       "      <td>Mozilla/5.0 (Macintosh; Intel Mac OS X 10_12_3...</td>\n",
       "      <td>GA</td>\n",
       "      <td>US</td>\n",
       "      <td>HTML</td>\n",
       "      <td>https://thenextweb.com/apps/2017/02/14/amazon-...</td>\n",
       "      <td>Amazon takes on Skype and GoToMeeting with its...</td>\n",
       "      <td>Amazon has launched Chime, a video conferencin...</td>\n",
       "      <td>en</td>\n",
       "    </tr>\n",
       "    <tr>\n",
       "      <th>3119</th>\n",
       "      <td>1488223224</td>\n",
       "      <td>content_present</td>\n",
       "      <td>3618271604906293310</td>\n",
       "      <td>1908339160857512799</td>\n",
       "      <td>-183341653743161643</td>\n",
       "      <td>Mozilla/5.0 (Macintosh; Intel Mac OS X 10_12_0...</td>\n",
       "      <td>SP</td>\n",
       "      <td>BR</td>\n",
       "      <td>HTML</td>\n",
       "      <td>https://code.org/about/2016</td>\n",
       "      <td>Code.org 2016 Annual Report</td>\n",
       "      <td>February 9, 2017 - We begin each year with a l...</td>\n",
       "      <td>en</td>\n",
       "    </tr>\n",
       "    <tr>\n",
       "      <th>3120</th>\n",
       "      <td>1488300719</td>\n",
       "      <td>content_present</td>\n",
       "      <td>6607431762270322325</td>\n",
       "      <td>-1393866732742189886</td>\n",
       "      <td>2367029511384577082</td>\n",
       "      <td>Mozilla/5.0 (X11; Linux x86_64) AppleWebKit/53...</td>\n",
       "      <td>MG</td>\n",
       "      <td>BR</td>\n",
       "      <td>HTML</td>\n",
       "      <td>https://www.bloomberg.com/news/articles/2017-0...</td>\n",
       "      <td>JPMorgan Software Does in Seconds What Took La...</td>\n",
       "      <td>At JPMorgan Chase &amp; Co., a learning machine is...</td>\n",
       "      <td>en</td>\n",
       "    </tr>\n",
       "    <tr>\n",
       "      <th>3121</th>\n",
       "      <td>1488307871</td>\n",
       "      <td>content_present</td>\n",
       "      <td>4109618890343020064</td>\n",
       "      <td>3891637997717104548</td>\n",
       "      <td>-7416795577834806518</td>\n",
       "      <td>Mozilla/5.0 (X11; Linux x86_64) AppleWebKit/53...</td>\n",
       "      <td>SP</td>\n",
       "      <td>BR</td>\n",
       "      <td>HTML</td>\n",
       "      <td>https://www.acquia.com/blog/partner/2017-acqui...</td>\n",
       "      <td>The 2017 Acquia Partners of the Year</td>\n",
       "      <td>The Acquia Partner Awards Program is comprised...</td>\n",
       "      <td>en</td>\n",
       "    </tr>\n",
       "  </tbody>\n",
       "</table>\n",
       "<p>3122 rows × 13 columns</p>\n",
       "</div>"
      ],
      "text/plain": [
       "      event_timestamp    interaction_type              item_id  \\\n",
       "0          1459192779  content_pulled_out -6451309518266745024   \n",
       "1          1459193988     content_present -4110354420726924665   \n",
       "2          1459194146     content_present -7292285110016212249   \n",
       "3          1459194474     content_present -6151852268067518688   \n",
       "4          1459194497     content_present  2448026894306402386   \n",
       "...               ...                 ...                  ...   \n",
       "3117       1487946604     content_present  9213260650272029784   \n",
       "3118       1487947067     content_present -3295913657316686039   \n",
       "3119       1488223224     content_present  3618271604906293310   \n",
       "3120       1488300719     content_present  6607431762270322325   \n",
       "3121       1488307871     content_present  4109618890343020064   \n",
       "\n",
       "              producer_id  producer_session_id  \\\n",
       "0     4340306774493623681  8940341205206233829   \n",
       "1     4340306774493623681  8940341205206233829   \n",
       "2     4340306774493623681  8940341205206233829   \n",
       "3     3891637997717104548 -1457532940883382585   \n",
       "4     4340306774493623681  8940341205206233829   \n",
       "...                   ...                  ...   \n",
       "3117  3609194402293569455  7144190892417579456   \n",
       "3118  6960073744377754728 -8193630595542572738   \n",
       "3119  1908339160857512799  -183341653743161643   \n",
       "3120 -1393866732742189886  2367029511384577082   \n",
       "3121  3891637997717104548 -7416795577834806518   \n",
       "\n",
       "                                   producer_device_info producer_location  \\\n",
       "0                                                   NaN               NaN   \n",
       "1                                                   NaN               NaN   \n",
       "2                                                   NaN               NaN   \n",
       "3                                                   NaN               NaN   \n",
       "4                                                   NaN               NaN   \n",
       "...                                                 ...               ...   \n",
       "3117  Mozilla/5.0 (Windows NT 10.0; WOW64) AppleWebK...                SP   \n",
       "3118  Mozilla/5.0 (Macintosh; Intel Mac OS X 10_12_3...                GA   \n",
       "3119  Mozilla/5.0 (Macintosh; Intel Mac OS X 10_12_0...                SP   \n",
       "3120  Mozilla/5.0 (X11; Linux x86_64) AppleWebKit/53...                MG   \n",
       "3121  Mozilla/5.0 (X11; Linux x86_64) AppleWebKit/53...                SP   \n",
       "\n",
       "     producer_country item_type  \\\n",
       "0                 NaN      HTML   \n",
       "1                 NaN      HTML   \n",
       "2                 NaN      HTML   \n",
       "3                 NaN      HTML   \n",
       "4                 NaN      HTML   \n",
       "...               ...       ...   \n",
       "3117               BR      HTML   \n",
       "3118               US      HTML   \n",
       "3119               BR      HTML   \n",
       "3120               BR      HTML   \n",
       "3121               BR      HTML   \n",
       "\n",
       "                                               item_url  \\\n",
       "0     http://www.nytimes.com/2016/03/28/business/dea...   \n",
       "1     http://www.nytimes.com/2016/03/28/business/dea...   \n",
       "2     http://cointelegraph.com/news/bitcoin-future-w...   \n",
       "3     https://cloudplatform.googleblog.com/2016/03/G...   \n",
       "4     https://bitcoinmagazine.com/articles/ibm-wants...   \n",
       "...                                                 ...   \n",
       "3117  https://startupi.com.br/2017/02/liga-ventures-...   \n",
       "3118  https://thenextweb.com/apps/2017/02/14/amazon-...   \n",
       "3119                        https://code.org/about/2016   \n",
       "3120  https://www.bloomberg.com/news/articles/2017-0...   \n",
       "3121  https://www.acquia.com/blog/partner/2017-acqui...   \n",
       "\n",
       "                                                  title  \\\n",
       "0     Ethereum, a Virtual Currency, Enables Transact...   \n",
       "1     Ethereum, a Virtual Currency, Enables Transact...   \n",
       "2     Bitcoin Future: When GBPcoin of Branson Wins O...   \n",
       "3                          Google Data Center 360° Tour   \n",
       "4     IBM Wants to \"Evolve the Internet\" With Blockc...   \n",
       "...                                                 ...   \n",
       "3117  Conheça a Liga IoT, plataforma de inovação abe...   \n",
       "3118  Amazon takes on Skype and GoToMeeting with its...   \n",
       "3119                        Code.org 2016 Annual Report   \n",
       "3120  JPMorgan Software Does in Seconds What Took La...   \n",
       "3121               The 2017 Acquia Partners of the Year   \n",
       "\n",
       "                                       text_description language  \n",
       "0     All of this work is still very early. The firs...       en  \n",
       "1     All of this work is still very early. The firs...       en  \n",
       "2     The alarm clock wakes me at 8:00 with stream o...       en  \n",
       "3     We're excited to share the Google Data Center ...       en  \n",
       "4     The Aite Group projects the blockchain market ...       en  \n",
       "...                                                 ...      ...  \n",
       "3117  A Liga Ventures, aceleradora de startups espec...       pt  \n",
       "3118  Amazon has launched Chime, a video conferencin...       en  \n",
       "3119  February 9, 2017 - We begin each year with a l...       en  \n",
       "3120  At JPMorgan Chase & Co., a learning machine is...       en  \n",
       "3121  The Acquia Partner Awards Program is comprised...       en  \n",
       "\n",
       "[3122 rows x 13 columns]"
      ]
     },
     "execution_count": 7,
     "metadata": {},
     "output_type": "execute_result"
    }
   ],
   "source": [
    "platform_data"
   ]
  },
  {
   "cell_type": "code",
   "execution_count": 8,
   "id": "c5d09fd9",
   "metadata": {},
   "outputs": [
    {
     "data": {
      "text/plain": [
       "content_present       3047\n",
       "content_pulled_out      75\n",
       "Name: interaction_type, dtype: int64"
      ]
     },
     "execution_count": 8,
     "metadata": {},
     "output_type": "execute_result"
    }
   ],
   "source": [
    "platform_data.interaction_type.value_counts()"
   ]
  },
  {
   "cell_type": "code",
   "execution_count": 10,
   "id": "1d483818",
   "metadata": {},
   "outputs": [
    {
     "data": {
      "text/plain": [
       "3057"
      ]
     },
     "execution_count": 10,
     "metadata": {},
     "output_type": "execute_result"
    }
   ],
   "source": [
    "platform_data.item_id.nunique()"
   ]
  },
  {
   "cell_type": "code",
   "execution_count": 11,
   "id": "2dbfad66",
   "metadata": {},
   "outputs": [
    {
     "data": {
      "text/plain": [
       "252"
      ]
     },
     "execution_count": 11,
     "metadata": {},
     "output_type": "execute_result"
    }
   ],
   "source": [
    "platform_data.producer_id.nunique()"
   ]
  },
  {
   "cell_type": "code",
   "execution_count": 13,
   "id": "2c030455",
   "metadata": {},
   "outputs": [
    {
     "data": {
      "text/plain": [
       "HTML     3101\n",
       "VIDEO      11\n",
       "RICH       10\n",
       "Name: item_type, dtype: int64"
      ]
     },
     "execution_count": 13,
     "metadata": {},
     "output_type": "execute_result"
    }
   ],
   "source": [
    "platform_data.item_type.value_counts()"
   ]
  },
  {
   "cell_type": "code",
   "execution_count": 19,
   "id": "41fe4fe2",
   "metadata": {},
   "outputs": [
    {
     "data": {
      "text/plain": [
       "en    2264\n",
       "pt     850\n",
       "la       4\n",
       "es       2\n",
       "ja       2\n",
       "Name: language, dtype: int64"
      ]
     },
     "execution_count": 19,
     "metadata": {},
     "output_type": "execute_result"
    }
   ],
   "source": [
    "platform_data.language.value_counts()"
   ]
  },
  {
   "cell_type": "code",
   "execution_count": 20,
   "id": "ceb9ba58",
   "metadata": {},
   "outputs": [],
   "source": [
    "# based on the above data distribution from platform table - we only need interaction_type & item_id some other columns can be used as additional features to improve the results"
   ]
  },
  {
   "cell_type": "code",
   "execution_count": null,
   "id": "c0b3a677",
   "metadata": {},
   "outputs": [],
   "source": []
  },
  {
   "cell_type": "markdown",
   "id": "775ea3e2",
   "metadata": {},
   "source": [
    "### identify items not to recommend based on content_pulled_out"
   ]
  },
  {
   "cell_type": "code",
   "execution_count": 29,
   "id": "74e6d0a2",
   "metadata": {
    "scrolled": true
   },
   "outputs": [],
   "source": [
    "removed_items=list(platform_data[platform_data.interaction_type==\"content_pulled_out\"][\"item_id\"])"
   ]
  },
  {
   "cell_type": "code",
   "execution_count": 30,
   "id": "47c9ba11",
   "metadata": {},
   "outputs": [
    {
     "data": {
      "text/plain": [
       "74"
      ]
     },
     "execution_count": 30,
     "metadata": {},
     "output_type": "execute_result"
    }
   ],
   "source": [
    "len(set(removed_items))"
   ]
  },
  {
   "cell_type": "code",
   "execution_count": null,
   "id": "72276d61",
   "metadata": {},
   "outputs": [],
   "source": []
  },
  {
   "cell_type": "code",
   "execution_count": null,
   "id": "0fd2b8d7",
   "metadata": {},
   "outputs": [],
   "source": [
    "# prepare data for training "
   ]
  },
  {
   "cell_type": "code",
   "execution_count": 163,
   "id": "b2107a2e",
   "metadata": {
    "scrolled": true
   },
   "outputs": [],
   "source": [
    "consumer_data=consumer_data[[\"interaction_type\",\"item_id\",\"consumer_id\"]]"
   ]
  },
  {
   "cell_type": "code",
   "execution_count": 164,
   "id": "fdadad2a",
   "metadata": {},
   "outputs": [],
   "source": [
    "consumer_data[\"rating\"]=0\n",
    "consumer_data.loc[consumer_data[\"interaction_type\"]==\"content_watched\",\"rating\"]=3\n",
    "consumer_data.loc[consumer_data[\"interaction_type\"]==\"content_liked\",\"rating\"]=5\n",
    "consumer_data.loc[consumer_data[\"interaction_type\"]==\"content_saved\",\"rating\"]=2\n",
    "consumer_data.loc[consumer_data[\"interaction_type\"]==\"content_commented_on\",\"rating\"]=4\n",
    "consumer_data.loc[consumer_data[\"interaction_type\"]==\"content_followed\",\"rating\"]=5"
   ]
  },
  {
   "cell_type": "code",
   "execution_count": 165,
   "id": "c5e7bf79",
   "metadata": {},
   "outputs": [],
   "source": [
    "#convert columns valueees into str as they aree unique valuees\n",
    "consumer_data[\"consumer_id\"]=consumer_data[\"consumer_id\"].astype(\"str\")\n",
    "consumer_data[\"item_id\"]=consumer_data[\"item_id\"].astype(\"str\")"
   ]
  },
  {
   "cell_type": "code",
   "execution_count": 168,
   "id": "4276f5a3",
   "metadata": {},
   "outputs": [
    {
     "data": {
      "text/html": [
       "<div>\n",
       "<style scoped>\n",
       "    .dataframe tbody tr th:only-of-type {\n",
       "        vertical-align: middle;\n",
       "    }\n",
       "\n",
       "    .dataframe tbody tr th {\n",
       "        vertical-align: top;\n",
       "    }\n",
       "\n",
       "    .dataframe thead th {\n",
       "        text-align: right;\n",
       "    }\n",
       "</style>\n",
       "<table border=\"1\" class=\"dataframe\">\n",
       "  <thead>\n",
       "    <tr style=\"text-align: right;\">\n",
       "      <th></th>\n",
       "      <th>interaction_type</th>\n",
       "      <th>item_id</th>\n",
       "      <th>consumer_id</th>\n",
       "      <th>rating</th>\n",
       "    </tr>\n",
       "  </thead>\n",
       "  <tbody>\n",
       "    <tr>\n",
       "      <th>0</th>\n",
       "      <td>content_watched</td>\n",
       "      <td>-3499919498720038879</td>\n",
       "      <td>-8845298781299428018</td>\n",
       "      <td>3</td>\n",
       "    </tr>\n",
       "    <tr>\n",
       "      <th>1</th>\n",
       "      <td>content_watched</td>\n",
       "      <td>8890720798209849691</td>\n",
       "      <td>-1032019229384696495</td>\n",
       "      <td>3</td>\n",
       "    </tr>\n",
       "    <tr>\n",
       "      <th>2</th>\n",
       "      <td>content_watched</td>\n",
       "      <td>310515487419366995</td>\n",
       "      <td>-1130272294246983140</td>\n",
       "      <td>3</td>\n",
       "    </tr>\n",
       "    <tr>\n",
       "      <th>3</th>\n",
       "      <td>content_followed</td>\n",
       "      <td>310515487419366995</td>\n",
       "      <td>344280948527967603</td>\n",
       "      <td>5</td>\n",
       "    </tr>\n",
       "    <tr>\n",
       "      <th>4</th>\n",
       "      <td>content_watched</td>\n",
       "      <td>-7820640624231356730</td>\n",
       "      <td>-445337111692715325</td>\n",
       "      <td>3</td>\n",
       "    </tr>\n",
       "    <tr>\n",
       "      <th>...</th>\n",
       "      <td>...</td>\n",
       "      <td>...</td>\n",
       "      <td>...</td>\n",
       "      <td>...</td>\n",
       "    </tr>\n",
       "    <tr>\n",
       "      <th>72307</th>\n",
       "      <td>content_liked</td>\n",
       "      <td>-6590819806697898649</td>\n",
       "      <td>-9016528795238256703</td>\n",
       "      <td>5</td>\n",
       "    </tr>\n",
       "    <tr>\n",
       "      <th>72308</th>\n",
       "      <td>content_watched</td>\n",
       "      <td>-5813211845057621660</td>\n",
       "      <td>102305705598210278</td>\n",
       "      <td>3</td>\n",
       "    </tr>\n",
       "    <tr>\n",
       "      <th>72309</th>\n",
       "      <td>content_watched</td>\n",
       "      <td>-1999468346928419252</td>\n",
       "      <td>-9196668942822132778</td>\n",
       "      <td>3</td>\n",
       "    </tr>\n",
       "    <tr>\n",
       "      <th>72310</th>\n",
       "      <td>content_watched</td>\n",
       "      <td>-6590819806697898649</td>\n",
       "      <td>-9016528795238256703</td>\n",
       "      <td>3</td>\n",
       "    </tr>\n",
       "    <tr>\n",
       "      <th>72311</th>\n",
       "      <td>content_watched</td>\n",
       "      <td>5669290109546991426</td>\n",
       "      <td>5713241217519616260</td>\n",
       "      <td>3</td>\n",
       "    </tr>\n",
       "  </tbody>\n",
       "</table>\n",
       "<p>72312 rows × 4 columns</p>\n",
       "</div>"
      ],
      "text/plain": [
       "       interaction_type               item_id           consumer_id  rating\n",
       "0       content_watched  -3499919498720038879  -8845298781299428018       3\n",
       "1       content_watched   8890720798209849691  -1032019229384696495       3\n",
       "2       content_watched    310515487419366995  -1130272294246983140       3\n",
       "3      content_followed    310515487419366995    344280948527967603       5\n",
       "4       content_watched  -7820640624231356730   -445337111692715325       3\n",
       "...                 ...                   ...                   ...     ...\n",
       "72307     content_liked  -6590819806697898649  -9016528795238256703       5\n",
       "72308   content_watched  -5813211845057621660    102305705598210278       3\n",
       "72309   content_watched  -1999468346928419252  -9196668942822132778       3\n",
       "72310   content_watched  -6590819806697898649  -9016528795238256703       3\n",
       "72311   content_watched   5669290109546991426   5713241217519616260       3\n",
       "\n",
       "[72312 rows x 4 columns]"
      ]
     },
     "execution_count": 168,
     "metadata": {},
     "output_type": "execute_result"
    }
   ],
   "source": [
    "consumer_data"
   ]
  },
  {
   "cell_type": "code",
   "execution_count": 167,
   "id": "f7028b1d",
   "metadata": {},
   "outputs": [
    {
     "data": {
      "text/plain": [
       "3    61086\n",
       "5     7152\n",
       "2     2463\n",
       "4     1611\n",
       "Name: rating, dtype: int64"
      ]
     },
     "execution_count": 167,
     "metadata": {},
     "output_type": "execute_result"
    }
   ],
   "source": [
    "consumer_data.rating.value_counts()"
   ]
  },
  {
   "cell_type": "code",
   "execution_count": null,
   "id": "a869f3f5",
   "metadata": {},
   "outputs": [],
   "source": []
  },
  {
   "cell_type": "code",
   "execution_count": 36,
   "id": "55af354e",
   "metadata": {},
   "outputs": [],
   "source": [
    "#load data into tf dataset"
   ]
  },
  {
   "cell_type": "code",
   "execution_count": 68,
   "id": "a72c8be9",
   "metadata": {},
   "outputs": [],
   "source": [
    "users=tf.data.Dataset.from_tensor_slices(consumer_data[[\"item_id\",\"consumer_id\"]])"
   ]
  },
  {
   "cell_type": "code",
   "execution_count": 69,
   "id": "b83078dc",
   "metadata": {},
   "outputs": [
    {
     "data": {
      "text/plain": [
       "<TensorSliceDataset element_spec=TensorSpec(shape=(2,), dtype=tf.string, name=None)>"
      ]
     },
     "execution_count": 69,
     "metadata": {},
     "output_type": "execute_result"
    }
   ],
   "source": [
    "users"
   ]
  },
  {
   "cell_type": "code",
   "execution_count": 70,
   "id": "053fee3a",
   "metadata": {},
   "outputs": [],
   "source": [
    "users=users.map(lambda x: {\n",
    "    \"consumer_id\": x[1],\n",
    "    \"item_id\": x[0]\n",
    "})"
   ]
  },
  {
   "cell_type": "code",
   "execution_count": 71,
   "id": "fa97056b",
   "metadata": {},
   "outputs": [
    {
     "data": {
      "text/plain": [
       "<MapDataset element_spec={'consumer_id': TensorSpec(shape=(), dtype=tf.string, name=None), 'item_id': TensorSpec(shape=(), dtype=tf.string, name=None)}>"
      ]
     },
     "execution_count": 71,
     "metadata": {},
     "output_type": "execute_result"
    }
   ],
   "source": [
    "users"
   ]
  },
  {
   "cell_type": "code",
   "execution_count": 72,
   "id": "7632cd9b",
   "metadata": {},
   "outputs": [
    {
     "name": "stdout",
     "output_type": "stream",
     "text": [
      "{'consumer_id': <tf.Tensor: shape=(), dtype=string, numpy=b'-8845298781299428018'>, 'item_id': <tf.Tensor: shape=(), dtype=string, numpy=b'-3499919498720038879'>}\n",
      "{'consumer_id': <tf.Tensor: shape=(), dtype=string, numpy=b'-1032019229384696495'>, 'item_id': <tf.Tensor: shape=(), dtype=string, numpy=b'8890720798209849691'>}\n"
     ]
    }
   ],
   "source": [
    "for i in users.take(2):\n",
    "    print(i)"
   ]
  },
  {
   "cell_type": "code",
   "execution_count": 73,
   "id": "131ab94f",
   "metadata": {},
   "outputs": [
    {
     "data": {
      "text/plain": [
       "72312"
      ]
     },
     "execution_count": 73,
     "metadata": {},
     "output_type": "execute_result"
    }
   ],
   "source": [
    "len(list(users.as_numpy_iterator()))"
   ]
  },
  {
   "cell_type": "code",
   "execution_count": 74,
   "id": "5299aa4c",
   "metadata": {},
   "outputs": [
    {
     "data": {
      "text/plain": [
       "<TensorSliceDataset element_spec=TensorSpec(shape=(), dtype=tf.string, name=None)>"
      ]
     },
     "execution_count": 74,
     "metadata": {},
     "output_type": "execute_result"
    }
   ],
   "source": [
    "items=tf.data.Dataset.from_tensor_slices(platform_data[\"item_id\"].astype(\"str\"))\n",
    "items"
   ]
  },
  {
   "cell_type": "code",
   "execution_count": 75,
   "id": "389b81b8",
   "metadata": {},
   "outputs": [
    {
     "name": "stdout",
     "output_type": "stream",
     "text": [
      "tf.Tensor(b'-6451309518266745024', shape=(), dtype=string)\n",
      "tf.Tensor(b'-4110354420726924665', shape=(), dtype=string)\n"
     ]
    }
   ],
   "source": [
    "for i in items.take(2):\n",
    "    print(i)"
   ]
  },
  {
   "cell_type": "markdown",
   "id": "46bcb8b4",
   "metadata": {},
   "source": [
    "# Approach 1"
   ]
  },
  {
   "cell_type": "code",
   "execution_count": 61,
   "id": "c53da386",
   "metadata": {},
   "outputs": [],
   "source": [
    "#Build vocabularies to convert consumer_id and item_id titles into integer indices for embedding layers:"
   ]
  },
  {
   "cell_type": "code",
   "execution_count": 76,
   "id": "6fa26a84",
   "metadata": {},
   "outputs": [],
   "source": [
    "consumer_id_vocabulary = tf.keras.layers.StringLookup(mask_token=None)\n",
    "consumer_id_vocabulary.adapt(users.map(lambda x: x[\"consumer_id\"]))\n",
    "\n",
    "item_id_vocabulary = tf.keras.layers.StringLookup(mask_token=None)\n",
    "item_id_vocabulary.adapt(items)"
   ]
  },
  {
   "cell_type": "code",
   "execution_count": 85,
   "id": "d94b22be",
   "metadata": {},
   "outputs": [],
   "source": [
    "class Model(tfrs.Model):\n",
    "  # We derive from a custom base class to help reduce boilerplate. Under the hood,\n",
    "  # these are still plain Keras Models.\n",
    "\n",
    "  def __init__(\n",
    "      self,\n",
    "      user_model: tf.keras.Model,\n",
    "      item_model: tf.keras.Model,\n",
    "      task: tfrs.tasks.Retrieval):\n",
    "    super().__init__()\n",
    "\n",
    "    # Set up user and movie representations.\n",
    "    self.user_model = user_model\n",
    "    self.item_model = item_model\n",
    "\n",
    "    # Set up a retrieval task.\n",
    "    self.task = task\n",
    "\n",
    "  def compute_loss(self, features: Dict[Text, tf.Tensor], training=False) -> tf.Tensor:\n",
    "    # Define how the loss is computed.\n",
    "\n",
    "    user_embeddings = self.user_model(features[\"consumer_id\"])\n",
    "    item_embeddings = self.item_model(features[\"item_id\"])\n",
    "\n",
    "    return self.task(user_embeddings, item_embeddings)"
   ]
  },
  {
   "cell_type": "code",
   "execution_count": 86,
   "id": "c3139a32",
   "metadata": {},
   "outputs": [
    {
     "name": "stdout",
     "output_type": "stream",
     "text": [
      "WARNING:tensorflow:vocab_size is deprecated, please use vocabulary_size.\n",
      "WARNING:tensorflow:vocab_size is deprecated, please use vocabulary_size.\n"
     ]
    }
   ],
   "source": [
    "# Define user and item models.\n",
    "user_model = tf.keras.Sequential([\n",
    "    consumer_id_vocabulary,\n",
    "    tf.keras.layers.Embedding(consumer_id_vocabulary.vocab_size(), 64)\n",
    "])\n",
    "item_model = tf.keras.Sequential([\n",
    "    item_id_vocabulary,\n",
    "    tf.keras.layers.Embedding(item_id_vocabulary.vocab_size(), 64)\n",
    "])\n",
    "\n",
    "# Define your objectives.\n",
    "task = tfrs.tasks.Retrieval(metrics=tfrs.metrics.FactorizedTopK(\n",
    "    items.batch(128).map(item_model)\n",
    "  )\n",
    ")"
   ]
  },
  {
   "cell_type": "code",
   "execution_count": 87,
   "id": "4e4b421f",
   "metadata": {
    "scrolled": true
   },
   "outputs": [
    {
     "name": "stdout",
     "output_type": "stream",
     "text": [
      "Epoch 1/10\n",
      "36/36 [==============================] - 26s 453ms/step - factorized_top_k/top_1_categorical_accuracy: 0.0117 - factorized_top_k/top_5_categorical_accuracy: 0.0378 - factorized_top_k/top_10_categorical_accuracy: 0.0522 - factorized_top_k/top_50_categorical_accuracy: 0.1081 - factorized_top_k/top_100_categorical_accuracy: 0.1530 - loss: 15681.9825 - regularization_loss: 0.0000e+00 - total_loss: 15681.9825\n",
      "Epoch 2/10\n",
      "36/36 [==============================] - 17s 458ms/step - factorized_top_k/top_1_categorical_accuracy: 0.0157 - factorized_top_k/top_5_categorical_accuracy: 0.0742 - factorized_top_k/top_10_categorical_accuracy: 0.1163 - factorized_top_k/top_50_categorical_accuracy: 0.2726 - factorized_top_k/top_100_categorical_accuracy: 0.3650 - loss: 13294.2634 - regularization_loss: 0.0000e+00 - total_loss: 13294.2634\n",
      "Epoch 3/10\n",
      "36/36 [==============================] - 17s 464ms/step - factorized_top_k/top_1_categorical_accuracy: 0.0219 - factorized_top_k/top_5_categorical_accuracy: 0.1059 - factorized_top_k/top_10_categorical_accuracy: 0.1665 - factorized_top_k/top_50_categorical_accuracy: 0.3818 - factorized_top_k/top_100_categorical_accuracy: 0.4991 - loss: 12095.6296 - regularization_loss: 0.0000e+00 - total_loss: 12095.6296\n",
      "Epoch 4/10\n",
      "36/36 [==============================] - 17s 482ms/step - factorized_top_k/top_1_categorical_accuracy: 0.0217 - factorized_top_k/top_5_categorical_accuracy: 0.1087 - factorized_top_k/top_10_categorical_accuracy: 0.1798 - factorized_top_k/top_50_categorical_accuracy: 0.4387 - factorized_top_k/top_100_categorical_accuracy: 0.5726 - loss: 11554.2363 - regularization_loss: 0.0000e+00 - total_loss: 11554.2363\n",
      "Epoch 5/10\n",
      "36/36 [==============================] - 18s 489ms/step - factorized_top_k/top_1_categorical_accuracy: 0.0239 - factorized_top_k/top_5_categorical_accuracy: 0.1138 - factorized_top_k/top_10_categorical_accuracy: 0.1906 - factorized_top_k/top_50_categorical_accuracy: 0.4709 - factorized_top_k/top_100_categorical_accuracy: 0.6156 - loss: 11223.4461 - regularization_loss: 0.0000e+00 - total_loss: 11223.4461\n",
      "Epoch 6/10\n",
      "36/36 [==============================] - 18s 499ms/step - factorized_top_k/top_1_categorical_accuracy: 0.0226 - factorized_top_k/top_5_categorical_accuracy: 0.1143 - factorized_top_k/top_10_categorical_accuracy: 0.1921 - factorized_top_k/top_50_categorical_accuracy: 0.4917 - factorized_top_k/top_100_categorical_accuracy: 0.6442 - loss: 10975.8178 - regularization_loss: 0.0000e+00 - total_loss: 10975.8178\n",
      "Epoch 7/10\n",
      "36/36 [==============================] - 18s 502ms/step - factorized_top_k/top_1_categorical_accuracy: 0.0241 - factorized_top_k/top_5_categorical_accuracy: 0.1169 - factorized_top_k/top_10_categorical_accuracy: 0.1956 - factorized_top_k/top_50_categorical_accuracy: 0.5063 - factorized_top_k/top_100_categorical_accuracy: 0.6642 - loss: 10806.8421 - regularization_loss: 0.0000e+00 - total_loss: 10806.8421\n",
      "Epoch 8/10\n",
      "36/36 [==============================] - 17s 478ms/step - factorized_top_k/top_1_categorical_accuracy: 0.0221 - factorized_top_k/top_5_categorical_accuracy: 0.1178 - factorized_top_k/top_10_categorical_accuracy: 0.1975 - factorized_top_k/top_50_categorical_accuracy: 0.5172 - factorized_top_k/top_100_categorical_accuracy: 0.6776 - loss: 10670.0305 - regularization_loss: 0.0000e+00 - total_loss: 10670.0305\n",
      "Epoch 9/10\n",
      "36/36 [==============================] - 17s 472ms/step - factorized_top_k/top_1_categorical_accuracy: 0.0228 - factorized_top_k/top_5_categorical_accuracy: 0.1183 - factorized_top_k/top_10_categorical_accuracy: 0.2009 - factorized_top_k/top_50_categorical_accuracy: 0.5271 - factorized_top_k/top_100_categorical_accuracy: 0.6887 - loss: 10561.8769 - regularization_loss: 0.0000e+00 - total_loss: 10561.8769\n",
      "Epoch 10/10\n",
      "36/36 [==============================] - 18s 503ms/step - factorized_top_k/top_1_categorical_accuracy: 0.0227 - factorized_top_k/top_5_categorical_accuracy: 0.1188 - factorized_top_k/top_10_categorical_accuracy: 0.2001 - factorized_top_k/top_50_categorical_accuracy: 0.5321 - factorized_top_k/top_100_categorical_accuracy: 0.6948 - loss: 10470.3886 - regularization_loss: 0.0000e+00 - total_loss: 10470.3886\n"
     ]
    },
    {
     "data": {
      "text/plain": [
       "<keras.callbacks.History at 0x20c20429e48>"
      ]
     },
     "execution_count": 87,
     "metadata": {},
     "output_type": "execute_result"
    }
   ],
   "source": [
    "# Create a retrieval model.\n",
    "model = Model(user_model, item_model, task)\n",
    "model.compile(optimizer=tf.keras.optimizers.Adagrad(0.5))\n",
    "\n",
    "# Train for 10 epochs.\n",
    "model.fit(users.batch(2048), epochs=10)\n"
   ]
  },
  {
   "cell_type": "code",
   "execution_count": null,
   "id": "bc933a34",
   "metadata": {},
   "outputs": [],
   "source": []
  },
  {
   "cell_type": "code",
   "execution_count": 88,
   "id": "1078e6e4",
   "metadata": {},
   "outputs": [],
   "source": [
    "# Use brute-force search to set up retrieval using the trained representations.\n",
    "index = tfrs.layers.factorized_top_k.BruteForce(model.user_model)"
   ]
  },
  {
   "cell_type": "code",
   "execution_count": 92,
   "id": "717af787",
   "metadata": {
    "scrolled": true
   },
   "outputs": [
    {
     "data": {
      "text/plain": [
       "<tensorflow_recommenders.layers.factorized_top_k.BruteForce at 0x20c206c6688>"
      ]
     },
     "execution_count": 92,
     "metadata": {},
     "output_type": "execute_result"
    }
   ],
   "source": [
    "index.index_from_dataset(\n",
    "    items.batch(100).map(lambda title: (title, model.item_model(title))))"
   ]
  },
  {
   "cell_type": "code",
   "execution_count": 93,
   "id": "01607a39",
   "metadata": {
    "scrolled": true
   },
   "outputs": [
    {
     "data": {
      "text/plain": [
       "(<tf.Tensor: shape=(1, 10), dtype=float32, numpy=\n",
       " array([[14.713587, 12.669333, 11.596464, 11.544986, 11.087412, 10.48841 ,\n",
       "          9.500173,  8.965431,  8.793857,  8.793857]], dtype=float32)>,\n",
       " <tf.Tensor: shape=(1, 10), dtype=string, numpy=\n",
       " array([[b'4876769046116846438', b'-908052164352446106',\n",
       "         b'-1068603220639552685', b'310515487419366995',\n",
       "         b'521382866757596943', b'8254285966695461849',\n",
       "         b'-5784991738549272379', b'564282370384747453',\n",
       "         b'-9153494109165200346', b'-9153494109165200346']], dtype=object)>)"
      ]
     },
     "execution_count": 93,
     "metadata": {},
     "output_type": "execute_result"
    }
   ],
   "source": [
    "#pick random user to get recommendation\n",
    "index(np.array([\"344280948527967603\"]))"
   ]
  },
  {
   "cell_type": "code",
   "execution_count": 109,
   "id": "9f2a7f85",
   "metadata": {},
   "outputs": [
    {
     "data": {
      "text/html": [
       "<div>\n",
       "<style scoped>\n",
       "    .dataframe tbody tr th:only-of-type {\n",
       "        vertical-align: middle;\n",
       "    }\n",
       "\n",
       "    .dataframe tbody tr th {\n",
       "        vertical-align: top;\n",
       "    }\n",
       "\n",
       "    .dataframe thead th {\n",
       "        text-align: right;\n",
       "    }\n",
       "</style>\n",
       "<table border=\"1\" class=\"dataframe\">\n",
       "  <thead>\n",
       "    <tr style=\"text-align: right;\">\n",
       "      <th></th>\n",
       "      <th>event_timestamp</th>\n",
       "      <th>interaction_type</th>\n",
       "      <th>item_id</th>\n",
       "      <th>producer_id</th>\n",
       "      <th>producer_session_id</th>\n",
       "      <th>producer_device_info</th>\n",
       "      <th>producer_location</th>\n",
       "      <th>producer_country</th>\n",
       "      <th>item_type</th>\n",
       "      <th>item_url</th>\n",
       "      <th>title</th>\n",
       "      <th>text_description</th>\n",
       "      <th>language</th>\n",
       "    </tr>\n",
       "  </thead>\n",
       "  <tbody>\n",
       "    <tr>\n",
       "      <th>486</th>\n",
       "      <td>1461095606</td>\n",
       "      <td>content_present</td>\n",
       "      <td>-6192959589652486637</td>\n",
       "      <td>-1443636648652872475</td>\n",
       "      <td>7737563535080806201</td>\n",
       "      <td>NaN</td>\n",
       "      <td>NaN</td>\n",
       "      <td>NaN</td>\n",
       "      <td>HTML</td>\n",
       "      <td>http://phandroid.com/2016/04/13/googles-projec...</td>\n",
       "      <td>Google's official Project Wing logo revealed</td>\n",
       "      <td>We've had a few guesses on why Google would be...</td>\n",
       "      <td>en</td>\n",
       "    </tr>\n",
       "  </tbody>\n",
       "</table>\n",
       "</div>"
      ],
      "text/plain": [
       "     event_timestamp interaction_type              item_id  \\\n",
       "486       1461095606  content_present -6192959589652486637   \n",
       "\n",
       "             producer_id  producer_session_id producer_device_info  \\\n",
       "486 -1443636648652872475  7737563535080806201                  NaN   \n",
       "\n",
       "    producer_location producer_country item_type  \\\n",
       "486               NaN              NaN      HTML   \n",
       "\n",
       "                                              item_url  \\\n",
       "486  http://phandroid.com/2016/04/13/googles-projec...   \n",
       "\n",
       "                                            title  \\\n",
       "486  Google's official Project Wing logo revealed   \n",
       "\n",
       "                                      text_description language  \n",
       "486  We've had a few guesses on why Google would be...       en  "
      ]
     },
     "execution_count": 109,
     "metadata": {},
     "output_type": "execute_result"
    }
   ],
   "source": [
    "platform_data[platform_data[\"item_id\"]==-6192959589652486637]"
   ]
  },
  {
   "cell_type": "code",
   "execution_count": 135,
   "id": "23c26d83",
   "metadata": {},
   "outputs": [],
   "source": [
    "def title_name(item_id):\n",
    "    return platform_data[platform_data[\"item_id\"]==item_id][\"title\"].values[0]"
   ]
  },
  {
   "cell_type": "code",
   "execution_count": 136,
   "id": "6a9b7a7b",
   "metadata": {},
   "outputs": [
    {
     "data": {
      "text/plain": [
       "\"Google's official Project Wing logo revealed\""
      ]
     },
     "execution_count": 136,
     "metadata": {},
     "output_type": "execute_result"
    }
   ],
   "source": [
    "title_name(-6192959589652486637)"
   ]
  },
  {
   "cell_type": "code",
   "execution_count": 138,
   "id": "67cc5ae5",
   "metadata": {},
   "outputs": [
    {
     "name": "stdout",
     "output_type": "stream",
     "text": [
      "Top 10 recommendations :\n",
      "\n",
      "The gig economy as a driver of innovation\n",
      "Drupal 8 is 1 Year Old (AND YOU GET A PRIZE!)\n",
      "Google supercharges machine learning tasks with TPU custom chip\n",
      "Have a Coke, take a photo and celebrate the Coke bottle's 100th anniversary using How-Old.net\n",
      "How to Avoid Building Bad Products with Rapid Validation - Lean Startup Co.\n",
      "Cloud Shell now GA, and still free\n",
      "Alibaba quebra recorde de vendas no Dia dos Solteiros - e-commerce\n",
      "Artificial Intelligence's White Guy Problem\n",
      "39 studies about human perception in 30 minutes\n",
      "Mycroft: The open source answer to natural language platforms\n"
     ]
    }
   ],
   "source": [
    "# Get some recommendations.\n",
    "_, titles = index(np.array([\"8845298781299428018\"]))\n",
    "print(f\"Top 10 recommendations :\\n\")\n",
    "count=0\n",
    "flag=False\n",
    "for i in titles:\n",
    "    for j in i:\n",
    "        if int(j) in removed_items:\n",
    "            continue\n",
    "        print(title_name(int(j)))\n",
    "        count-=-1\n",
    "        if count==10:\n",
    "            flag=True\n",
    "            break\n",
    "    if flag:\n",
    "        break"
   ]
  },
  {
   "cell_type": "code",
   "execution_count": null,
   "id": "61a77e2e",
   "metadata": {},
   "outputs": [],
   "source": []
  },
  {
   "cell_type": "markdown",
   "id": "d4416d78",
   "metadata": {},
   "source": [
    "# Approach 2 retrieval"
   ]
  },
  {
   "cell_type": "code",
   "execution_count": 176,
   "id": "d0c45206",
   "metadata": {},
   "outputs": [],
   "source": [
    "tf.random.set_seed(42)\n",
    "shuffled = users.shuffle(100000, seed=42, reshuffle_each_iteration=False)\n",
    "\n",
    "train = shuffled.take(60000)\n",
    "test = shuffled.skip(60000)"
   ]
  },
  {
   "cell_type": "code",
   "execution_count": 179,
   "id": "1debd44e",
   "metadata": {},
   "outputs": [
    {
     "name": "stdout",
     "output_type": "stream",
     "text": [
      "Google unleashes DeepMind on energy-hungry datacenter, cutting cooling bill by 40 percent\n",
      "Indústria 4.0: desafios e oportunidades\n",
      "12 JavaScript Hacks\n",
      "Australian Bitcoin Entrepreneur Launches Robo-Advice Platform\n",
      "React Native v0.32.0-rc.0 released\n",
      "Para entender o Dia Internacional contra a Homofobia\n",
      "Apple launches Safari Technology Preview, a browser for developers including experimental web features\n",
      "Hero unveils a new home gadget to help you track and dispense pills\n",
      "Google Drive Is Scary-Smart at Searching Your Images\n",
      "Facial recognition systems stumble when confronted with million-face database\n"
     ]
    }
   ],
   "source": [
    "yitems = items.batch(1_000)\n",
    "xuser = users.batch(1_000).map(lambda x: x[\"consumer_id\"])\n",
    "\n",
    "unique_items = np.unique(np.concatenate(list(yitems)))\n",
    "unique_users = np.unique(np.concatenate(list(xuser)))\n",
    "\n",
    "for i in unique_items[:10]:\n",
    "    print(title_name(int(i)))"
   ]
  },
  {
   "cell_type": "code",
   "execution_count": 180,
   "id": "5212d597",
   "metadata": {},
   "outputs": [],
   "source": [
    "embedding_dimension = 32"
   ]
  },
  {
   "cell_type": "code",
   "execution_count": 181,
   "id": "8824b27c",
   "metadata": {},
   "outputs": [],
   "source": [
    "user_model = tf.keras.Sequential([\n",
    "  tf.keras.layers.StringLookup(\n",
    "      vocabulary=unique_users, mask_token=None),\n",
    "  # We add an additional embedding to account for unknown tokens.\n",
    "  tf.keras.layers.Embedding(len(unique_users) + 1, embedding_dimension)\n",
    "])"
   ]
  },
  {
   "cell_type": "code",
   "execution_count": 182,
   "id": "db1a6714",
   "metadata": {},
   "outputs": [],
   "source": [
    "candidate_model = tf.keras.Sequential([\n",
    "  tf.keras.layers.StringLookup(\n",
    "      vocabulary=unique_items, mask_token=None),\n",
    "  tf.keras.layers.Embedding(len(unique_items) + 1, embedding_dimension)\n",
    "])"
   ]
  },
  {
   "cell_type": "code",
   "execution_count": 183,
   "id": "a132a73e",
   "metadata": {},
   "outputs": [],
   "source": [
    "metrics = tfrs.metrics.FactorizedTopK(\n",
    "  candidates=items.batch(128).map(candidate_model)\n",
    ")\n",
    "task = tfrs.tasks.Retrieval(\n",
    "  metrics=metrics\n",
    ")"
   ]
  },
  {
   "cell_type": "code",
   "execution_count": 188,
   "id": "a9ca0b40",
   "metadata": {},
   "outputs": [],
   "source": [
    "class Model2(tfrs.Model):\n",
    "\n",
    "  def __init__(self, user_model, candidate_model):\n",
    "    super().__init__()\n",
    "    self.candidate_model: tf.keras.Model = candidate_model\n",
    "    self.user_model: tf.keras.Model = user_model\n",
    "    self.task: tf.keras.layers.Layer = task\n",
    "\n",
    "  def compute_loss(self, features: Dict[Text, tf.Tensor], training=False) -> tf.Tensor:\n",
    "    # We pick out the user features and pass them into the user model.\n",
    "    user_embeddings = self.user_model(features[\"consumer_id\"])\n",
    "    # And pick out the movie features and pass them into the movie model,\n",
    "    # getting embeddings back.\n",
    "    positive_movie_embeddings = self.candidate_model(features[\"item_id\"])\n",
    "\n",
    "    # The task computes the loss and the metrics.\n",
    "    return self.task(user_embeddings, positive_movie_embeddings)"
   ]
  },
  {
   "cell_type": "code",
   "execution_count": null,
   "id": "76c3abdc",
   "metadata": {},
   "outputs": [],
   "source": [
    "# same alternative model with different lib below"
   ]
  },
  {
   "cell_type": "code",
   "execution_count": 187,
   "id": "11aab37d",
   "metadata": {},
   "outputs": [],
   "source": [
    "# class Model2(tf.keras.Model):\n",
    "\n",
    "#   def __init__(self, user_model, candidate_model):\n",
    "#     super().__init__()\n",
    "#     self.candidate_model: tf.keras.Model = candidate_model\n",
    "#     self.user_model: tf.keras.Model = user_model\n",
    "#     self.task: tf.keras.layers.Layer = task\n",
    "\n",
    "#   def train_step(self, features: Dict[Text, tf.Tensor]) -> tf.Tensor:\n",
    "\n",
    "#     # Set up a gradient tape to record gradients.\n",
    "#     with tf.GradientTape() as tape:\n",
    "\n",
    "#       # Loss computation.\n",
    "#       user_embeddings = self.user_model(features[\"consumer_id\"])\n",
    "#       positive_movie_embeddings = self.candidate_model(features[\"item_id\"])\n",
    "#       loss = self.task(user_embeddings, positive_movie_embeddings)\n",
    "\n",
    "#       # Handle regularization losses as well.\n",
    "#       regularization_loss = sum(self.losses)\n",
    "\n",
    "#       total_loss = loss + regularization_loss\n",
    "\n",
    "#     gradients = tape.gradient(total_loss, self.trainable_variables)\n",
    "#     self.optimizer.apply_gradients(zip(gradients, self.trainable_variables))\n",
    "\n",
    "#     metrics = {metric.name: metric.result() for metric in self.metrics}\n",
    "#     metrics[\"loss\"] = loss\n",
    "#     metrics[\"regularization_loss\"] = regularization_loss\n",
    "#     metrics[\"total_loss\"] = total_loss\n",
    "\n",
    "#     return metrics\n",
    "\n",
    "#   def test_step(self, features: Dict[Text, tf.Tensor]) -> tf.Tensor:\n",
    "\n",
    "#     # Loss computation.\n",
    "#     user_embeddings = self.user_model(features[\"consumer_id\"])\n",
    "#     positive_movie_embeddings = self.candidate_model(features[\"item_id\"])\n",
    "#     loss = self.task(user_embeddings, positive_movie_embeddings)\n",
    "\n",
    "#     # Handle regularization losses as well.\n",
    "#     regularization_loss = sum(self.losses)\n",
    "\n",
    "#     total_loss = loss + regularization_loss\n",
    "\n",
    "#     metrics = {metric.name: metric.result() for metric in self.metrics}\n",
    "#     metrics[\"loss\"] = loss\n",
    "#     metrics[\"regularization_loss\"] = regularization_loss\n",
    "#     metrics[\"total_loss\"] = total_loss\n",
    "\n",
    "#     return metrics"
   ]
  },
  {
   "cell_type": "code",
   "execution_count": 189,
   "id": "d3199874",
   "metadata": {},
   "outputs": [],
   "source": [
    "model = Model2(user_model, candidate_model)\n",
    "model.compile(optimizer=tf.keras.optimizers.Adagrad(learning_rate=0.1))"
   ]
  },
  {
   "cell_type": "code",
   "execution_count": 190,
   "id": "fc22dc44",
   "metadata": {},
   "outputs": [],
   "source": [
    "cached_train = train.shuffle(100_00).batch(1024).cache()\n",
    "cached_test = test.batch(4096).cache()"
   ]
  },
  {
   "cell_type": "code",
   "execution_count": 191,
   "id": "e8ea70e9",
   "metadata": {
    "scrolled": true
   },
   "outputs": [
    {
     "name": "stdout",
     "output_type": "stream",
     "text": [
      "Epoch 1/20\n",
      "59/59 [==============================] - 18s 261ms/step - factorized_top_k/top_1_categorical_accuracy: 0.0039 - factorized_top_k/top_5_categorical_accuracy: 0.0571 - factorized_top_k/top_10_categorical_accuracy: 0.0860 - factorized_top_k/top_50_categorical_accuracy: 0.1990 - factorized_top_k/top_100_categorical_accuracy: 0.2773 - loss: 6642.5167 - regularization_loss: 0.0000e+00 - total_loss: 6642.5167\n",
      "Epoch 2/20\n",
      "59/59 [==============================] - 15s 248ms/step - factorized_top_k/top_1_categorical_accuracy: 0.0127 - factorized_top_k/top_5_categorical_accuracy: 0.1265 - factorized_top_k/top_10_categorical_accuracy: 0.1855 - factorized_top_k/top_50_categorical_accuracy: 0.3853 - factorized_top_k/top_100_categorical_accuracy: 0.4974 - loss: 5820.4797 - regularization_loss: 0.0000e+00 - total_loss: 5820.4797\n",
      "Epoch 3/20\n",
      "59/59 [==============================] - 14s 241ms/step - factorized_top_k/top_1_categorical_accuracy: 0.0138 - factorized_top_k/top_5_categorical_accuracy: 0.1504 - factorized_top_k/top_10_categorical_accuracy: 0.2231 - factorized_top_k/top_50_categorical_accuracy: 0.4505 - factorized_top_k/top_100_categorical_accuracy: 0.5703 - loss: 5367.1140 - regularization_loss: 0.0000e+00 - total_loss: 5367.1140\n",
      "Epoch 4/20\n",
      "59/59 [==============================] - 14s 242ms/step - factorized_top_k/top_1_categorical_accuracy: 0.0140 - factorized_top_k/top_5_categorical_accuracy: 0.1603 - factorized_top_k/top_10_categorical_accuracy: 0.2407 - factorized_top_k/top_50_categorical_accuracy: 0.4798 - factorized_top_k/top_100_categorical_accuracy: 0.6068 - loss: 5103.9141 - regularization_loss: 0.0000e+00 - total_loss: 5103.9141\n",
      "Epoch 5/20\n",
      "59/59 [==============================] - 14s 233ms/step - factorized_top_k/top_1_categorical_accuracy: 0.0137 - factorized_top_k/top_5_categorical_accuracy: 0.1654 - factorized_top_k/top_10_categorical_accuracy: 0.2495 - factorized_top_k/top_50_categorical_accuracy: 0.4992 - factorized_top_k/top_100_categorical_accuracy: 0.6291 - loss: 4931.5625 - regularization_loss: 0.0000e+00 - total_loss: 4931.5625\n",
      "Epoch 6/20\n",
      "59/59 [==============================] - 14s 239ms/step - factorized_top_k/top_1_categorical_accuracy: 0.0141 - factorized_top_k/top_5_categorical_accuracy: 0.1676 - factorized_top_k/top_10_categorical_accuracy: 0.2535 - factorized_top_k/top_50_categorical_accuracy: 0.5129 - factorized_top_k/top_100_categorical_accuracy: 0.6439 - loss: 4808.9910 - regularization_loss: 0.0000e+00 - total_loss: 4808.9910\n",
      "Epoch 7/20\n",
      "59/59 [==============================] - 14s 245ms/step - factorized_top_k/top_1_categorical_accuracy: 0.0141 - factorized_top_k/top_5_categorical_accuracy: 0.1683 - factorized_top_k/top_10_categorical_accuracy: 0.2560 - factorized_top_k/top_50_categorical_accuracy: 0.5232 - factorized_top_k/top_100_categorical_accuracy: 0.6556 - loss: 4716.7240 - regularization_loss: 0.0000e+00 - total_loss: 4716.7240\n",
      "Epoch 8/20\n",
      "59/59 [==============================] - 16s 263ms/step - factorized_top_k/top_1_categorical_accuracy: 0.0141 - factorized_top_k/top_5_categorical_accuracy: 0.1688 - factorized_top_k/top_10_categorical_accuracy: 0.2598 - factorized_top_k/top_50_categorical_accuracy: 0.5313 - factorized_top_k/top_100_categorical_accuracy: 0.6646 - loss: 4644.5442 - regularization_loss: 0.0000e+00 - total_loss: 4644.5442\n",
      "Epoch 9/20\n",
      "59/59 [==============================] - 16s 264ms/step - factorized_top_k/top_1_categorical_accuracy: 0.0144 - factorized_top_k/top_5_categorical_accuracy: 0.1698 - factorized_top_k/top_10_categorical_accuracy: 0.2630 - factorized_top_k/top_50_categorical_accuracy: 0.5376 - factorized_top_k/top_100_categorical_accuracy: 0.6720 - loss: 4586.3913 - regularization_loss: 0.0000e+00 - total_loss: 4586.3913\n",
      "Epoch 10/20\n",
      "59/59 [==============================] - 14s 231ms/step - factorized_top_k/top_1_categorical_accuracy: 0.0146 - factorized_top_k/top_5_categorical_accuracy: 0.1702 - factorized_top_k/top_10_categorical_accuracy: 0.2654 - factorized_top_k/top_50_categorical_accuracy: 0.5431 - factorized_top_k/top_100_categorical_accuracy: 0.6781 - loss: 4538.4036 - regularization_loss: 0.0000e+00 - total_loss: 4538.4036\n",
      "Epoch 11/20\n",
      "59/59 [==============================] - 14s 245ms/step - factorized_top_k/top_1_categorical_accuracy: 0.0150 - factorized_top_k/top_5_categorical_accuracy: 0.1712 - factorized_top_k/top_10_categorical_accuracy: 0.2671 - factorized_top_k/top_50_categorical_accuracy: 0.5476 - factorized_top_k/top_100_categorical_accuracy: 0.6831 - loss: 4497.9931 - regularization_loss: 0.0000e+00 - total_loss: 4497.9931\n",
      "Epoch 12/20\n",
      "59/59 [==============================] - 14s 234ms/step - factorized_top_k/top_1_categorical_accuracy: 0.0154 - factorized_top_k/top_5_categorical_accuracy: 0.1715 - factorized_top_k/top_10_categorical_accuracy: 0.2683 - factorized_top_k/top_50_categorical_accuracy: 0.5526 - factorized_top_k/top_100_categorical_accuracy: 0.6880 - loss: 4463.3979 - regularization_loss: 0.0000e+00 - total_loss: 4463.3979\n",
      "Epoch 13/20\n",
      "59/59 [==============================] - 14s 232ms/step - factorized_top_k/top_1_categorical_accuracy: 0.0157 - factorized_top_k/top_5_categorical_accuracy: 0.1716 - factorized_top_k/top_10_categorical_accuracy: 0.2699 - factorized_top_k/top_50_categorical_accuracy: 0.5563 - factorized_top_k/top_100_categorical_accuracy: 0.6912 - loss: 4433.3701 - regularization_loss: 0.0000e+00 - total_loss: 4433.3701\n",
      "Epoch 14/20\n",
      "59/59 [==============================] - 14s 232ms/step - factorized_top_k/top_1_categorical_accuracy: 0.0160 - factorized_top_k/top_5_categorical_accuracy: 0.1718 - factorized_top_k/top_10_categorical_accuracy: 0.2716 - factorized_top_k/top_50_categorical_accuracy: 0.5598 - factorized_top_k/top_100_categorical_accuracy: 0.6947 - loss: 4407.0018 - regularization_loss: 0.0000e+00 - total_loss: 4407.0018\n",
      "Epoch 15/20\n",
      "59/59 [==============================] - 14s 231ms/step - factorized_top_k/top_1_categorical_accuracy: 0.0159 - factorized_top_k/top_5_categorical_accuracy: 0.1719 - factorized_top_k/top_10_categorical_accuracy: 0.2727 - factorized_top_k/top_50_categorical_accuracy: 0.5629 - factorized_top_k/top_100_categorical_accuracy: 0.6979 - loss: 4383.6148 - regularization_loss: 0.0000e+00 - total_loss: 4383.6148\n",
      "Epoch 16/20\n",
      "59/59 [==============================] - 14s 242ms/step - factorized_top_k/top_1_categorical_accuracy: 0.0159 - factorized_top_k/top_5_categorical_accuracy: 0.1721 - factorized_top_k/top_10_categorical_accuracy: 0.2737 - factorized_top_k/top_50_categorical_accuracy: 0.5665 - factorized_top_k/top_100_categorical_accuracy: 0.7011 - loss: 4362.6923 - regularization_loss: 0.0000e+00 - total_loss: 4362.6923\n",
      "Epoch 17/20\n",
      "59/59 [==============================] - 14s 231ms/step - factorized_top_k/top_1_categorical_accuracy: 0.0163 - factorized_top_k/top_5_categorical_accuracy: 0.1720 - factorized_top_k/top_10_categorical_accuracy: 0.2749 - factorized_top_k/top_50_categorical_accuracy: 0.5694 - factorized_top_k/top_100_categorical_accuracy: 0.7039 - loss: 4343.8327 - regularization_loss: 0.0000e+00 - total_loss: 4343.8327\n",
      "Epoch 18/20\n",
      "59/59 [==============================] - 14s 232ms/step - factorized_top_k/top_1_categorical_accuracy: 0.0163 - factorized_top_k/top_5_categorical_accuracy: 0.1725 - factorized_top_k/top_10_categorical_accuracy: 0.2760 - factorized_top_k/top_50_categorical_accuracy: 0.5718 - factorized_top_k/top_100_categorical_accuracy: 0.7061 - loss: 4326.7194 - regularization_loss: 0.0000e+00 - total_loss: 4326.7194\n",
      "Epoch 19/20\n",
      "59/59 [==============================] - 14s 232ms/step - factorized_top_k/top_1_categorical_accuracy: 0.0164 - factorized_top_k/top_5_categorical_accuracy: 0.1728 - factorized_top_k/top_10_categorical_accuracy: 0.2763 - factorized_top_k/top_50_categorical_accuracy: 0.5742 - factorized_top_k/top_100_categorical_accuracy: 0.7080 - loss: 4311.0995 - regularization_loss: 0.0000e+00 - total_loss: 4311.0995\n",
      "Epoch 20/20\n"
     ]
    },
    {
     "name": "stdout",
     "output_type": "stream",
     "text": [
      "59/59 [==============================] - 14s 229ms/step - factorized_top_k/top_1_categorical_accuracy: 0.0165 - factorized_top_k/top_5_categorical_accuracy: 0.1731 - factorized_top_k/top_10_categorical_accuracy: 0.2770 - factorized_top_k/top_50_categorical_accuracy: 0.5760 - factorized_top_k/top_100_categorical_accuracy: 0.7099 - loss: 4296.7683 - regularization_loss: 0.0000e+00 - total_loss: 4296.7683\n"
     ]
    },
    {
     "data": {
      "text/plain": [
       "<keras.callbacks.History at 0x20c265a3688>"
      ]
     },
     "execution_count": 191,
     "metadata": {},
     "output_type": "execute_result"
    }
   ],
   "source": [
    "model.fit(cached_train, epochs=20)"
   ]
  },
  {
   "cell_type": "code",
   "execution_count": 192,
   "id": "3b4c2426",
   "metadata": {},
   "outputs": [
    {
     "name": "stdout",
     "output_type": "stream",
     "text": [
      "4/4 [==============================] - 5s 652ms/step - factorized_top_k/top_1_categorical_accuracy: 0.0209 - factorized_top_k/top_5_categorical_accuracy: 0.1000 - factorized_top_k/top_10_categorical_accuracy: 0.1576 - factorized_top_k/top_50_categorical_accuracy: 0.3549 - factorized_top_k/top_100_categorical_accuracy: 0.4637 - loss: 17874.9723 - regularization_loss: 0.0000e+00 - total_loss: 17874.9723\n"
     ]
    },
    {
     "data": {
      "text/plain": [
       "{'factorized_top_k/top_1_categorical_accuracy': 0.020873943343758583,\n",
       " 'factorized_top_k/top_5_categorical_accuracy': 0.09998375922441483,\n",
       " 'factorized_top_k/top_10_categorical_accuracy': 0.15756985545158386,\n",
       " 'factorized_top_k/top_50_categorical_accuracy': 0.354938268661499,\n",
       " 'factorized_top_k/top_100_categorical_accuracy': 0.4636939465999603,\n",
       " 'loss': 73.8243179321289,\n",
       " 'regularization_loss': 0,\n",
       " 'total_loss': 73.8243179321289}"
      ]
     },
     "execution_count": 192,
     "metadata": {},
     "output_type": "execute_result"
    }
   ],
   "source": [
    "model.evaluate(cached_test, return_dict=True)"
   ]
  },
  {
   "cell_type": "code",
   "execution_count": 193,
   "id": "0f59ab82",
   "metadata": {},
   "outputs": [
    {
     "data": {
      "text/plain": [
       "<tensorflow_recommenders.layers.factorized_top_k.BruteForce at 0x20c262ec808>"
      ]
     },
     "execution_count": 193,
     "metadata": {},
     "output_type": "execute_result"
    }
   ],
   "source": [
    "# Create a model that takes in raw query features, and\n",
    "index = tfrs.layers.factorized_top_k.BruteForce(model.user_model)\n",
    "# recommends content out of the entire platform dataset.\n",
    "index.index_from_dataset(\n",
    "  tf.data.Dataset.zip((items.batch(100), items.batch(100).map(model.candidate_model)))\n",
    ")\n"
   ]
  },
  {
   "cell_type": "code",
   "execution_count": 194,
   "id": "04c9e621",
   "metadata": {},
   "outputs": [
    {
     "name": "stdout",
     "output_type": "stream",
     "text": [
      "Top 10 recommendations :\n",
      "\n",
      "Research at Google\n",
      "Nespresso\n",
      "IBM Watson e a revolução pela inteligência artificial | Udacity\n",
      "Vision API - Image Content Analysis\n",
      "Udacity abre código de simulador de carro autônomo para quem quiser testar\n",
      "Descubra os 10 apps mais importantes para o brasileiro\n",
      "BDD Best Practices and Guidelines - Testing Excellence\n",
      "Fabric is Joining Google\n",
      "Services \n",
      "Front in BH 2016\n"
     ]
    }
   ],
   "source": [
    "# Get some recommendations.\n",
    "_, titles = index(np.array([\"8845298781299428018\"]))\n",
    "print(f\"Top 10 recommendations :\\n\")\n",
    "count=0\n",
    "flag=False\n",
    "for i in titles:\n",
    "    for j in i:\n",
    "        if int(j) in removed_items:\n",
    "            continue\n",
    "        print(title_name(int(j)))\n",
    "        count-=-1\n",
    "        if count==10:\n",
    "            flag=True\n",
    "            break\n",
    "    if flag:\n",
    "        break"
   ]
  },
  {
   "cell_type": "code",
   "execution_count": null,
   "id": "4518a25f",
   "metadata": {},
   "outputs": [],
   "source": []
  },
  {
   "cell_type": "markdown",
   "id": "a1d76d20",
   "metadata": {},
   "source": [
    "# Approach 3 Ranking"
   ]
  },
  {
   "cell_type": "code",
   "execution_count": null,
   "id": "9af640d4",
   "metadata": {},
   "outputs": [],
   "source": [
    "# this approach we will use ratings as additional feature"
   ]
  },
  {
   "cell_type": "code",
   "execution_count": 213,
   "id": "db417be3",
   "metadata": {},
   "outputs": [
    {
     "data": {
      "text/html": [
       "<div>\n",
       "<style scoped>\n",
       "    .dataframe tbody tr th:only-of-type {\n",
       "        vertical-align: middle;\n",
       "    }\n",
       "\n",
       "    .dataframe tbody tr th {\n",
       "        vertical-align: top;\n",
       "    }\n",
       "\n",
       "    .dataframe thead th {\n",
       "        text-align: right;\n",
       "    }\n",
       "</style>\n",
       "<table border=\"1\" class=\"dataframe\">\n",
       "  <thead>\n",
       "    <tr style=\"text-align: right;\">\n",
       "      <th></th>\n",
       "      <th>interaction_type</th>\n",
       "      <th>item_id</th>\n",
       "      <th>consumer_id</th>\n",
       "      <th>rating</th>\n",
       "    </tr>\n",
       "  </thead>\n",
       "  <tbody>\n",
       "    <tr>\n",
       "      <th>0</th>\n",
       "      <td>content_watched</td>\n",
       "      <td>-3499919498720038879</td>\n",
       "      <td>-8845298781299428018</td>\n",
       "      <td>3</td>\n",
       "    </tr>\n",
       "    <tr>\n",
       "      <th>1</th>\n",
       "      <td>content_watched</td>\n",
       "      <td>8890720798209849691</td>\n",
       "      <td>-1032019229384696495</td>\n",
       "      <td>3</td>\n",
       "    </tr>\n",
       "    <tr>\n",
       "      <th>2</th>\n",
       "      <td>content_watched</td>\n",
       "      <td>310515487419366995</td>\n",
       "      <td>-1130272294246983140</td>\n",
       "      <td>3</td>\n",
       "    </tr>\n",
       "    <tr>\n",
       "      <th>3</th>\n",
       "      <td>content_followed</td>\n",
       "      <td>310515487419366995</td>\n",
       "      <td>344280948527967603</td>\n",
       "      <td>5</td>\n",
       "    </tr>\n",
       "    <tr>\n",
       "      <th>4</th>\n",
       "      <td>content_watched</td>\n",
       "      <td>-7820640624231356730</td>\n",
       "      <td>-445337111692715325</td>\n",
       "      <td>3</td>\n",
       "    </tr>\n",
       "    <tr>\n",
       "      <th>...</th>\n",
       "      <td>...</td>\n",
       "      <td>...</td>\n",
       "      <td>...</td>\n",
       "      <td>...</td>\n",
       "    </tr>\n",
       "    <tr>\n",
       "      <th>72307</th>\n",
       "      <td>content_liked</td>\n",
       "      <td>-6590819806697898649</td>\n",
       "      <td>-9016528795238256703</td>\n",
       "      <td>5</td>\n",
       "    </tr>\n",
       "    <tr>\n",
       "      <th>72308</th>\n",
       "      <td>content_watched</td>\n",
       "      <td>-5813211845057621660</td>\n",
       "      <td>102305705598210278</td>\n",
       "      <td>3</td>\n",
       "    </tr>\n",
       "    <tr>\n",
       "      <th>72309</th>\n",
       "      <td>content_watched</td>\n",
       "      <td>-1999468346928419252</td>\n",
       "      <td>-9196668942822132778</td>\n",
       "      <td>3</td>\n",
       "    </tr>\n",
       "    <tr>\n",
       "      <th>72310</th>\n",
       "      <td>content_watched</td>\n",
       "      <td>-6590819806697898649</td>\n",
       "      <td>-9016528795238256703</td>\n",
       "      <td>3</td>\n",
       "    </tr>\n",
       "    <tr>\n",
       "      <th>72311</th>\n",
       "      <td>content_watched</td>\n",
       "      <td>5669290109546991426</td>\n",
       "      <td>5713241217519616260</td>\n",
       "      <td>3</td>\n",
       "    </tr>\n",
       "  </tbody>\n",
       "</table>\n",
       "<p>72312 rows × 4 columns</p>\n",
       "</div>"
      ],
      "text/plain": [
       "       interaction_type               item_id           consumer_id rating\n",
       "0       content_watched  -3499919498720038879  -8845298781299428018      3\n",
       "1       content_watched   8890720798209849691  -1032019229384696495      3\n",
       "2       content_watched    310515487419366995  -1130272294246983140      3\n",
       "3      content_followed    310515487419366995    344280948527967603      5\n",
       "4       content_watched  -7820640624231356730   -445337111692715325      3\n",
       "...                 ...                   ...                   ...    ...\n",
       "72307     content_liked  -6590819806697898649  -9016528795238256703      5\n",
       "72308   content_watched  -5813211845057621660    102305705598210278      3\n",
       "72309   content_watched  -1999468346928419252  -9196668942822132778      3\n",
       "72310   content_watched  -6590819806697898649  -9016528795238256703      3\n",
       "72311   content_watched   5669290109546991426   5713241217519616260      3\n",
       "\n",
       "[72312 rows x 4 columns]"
      ]
     },
     "execution_count": 213,
     "metadata": {},
     "output_type": "execute_result"
    }
   ],
   "source": [
    "consumer_data"
   ]
  },
  {
   "cell_type": "code",
   "execution_count": 212,
   "id": "3fc8d47d",
   "metadata": {},
   "outputs": [],
   "source": [
    "consumer_data[\"rating\"]=consumer_data[\"rating\"].astype(\"str\")"
   ]
  },
  {
   "cell_type": "code",
   "execution_count": 198,
   "id": "ce30c801",
   "metadata": {},
   "outputs": [],
   "source": [
    "# rating_label=tf.data.Dataset.from_tensor_slices(consumer_data[\"rating\"])"
   ]
  },
  {
   "cell_type": "code",
   "execution_count": 243,
   "id": "0192517d",
   "metadata": {},
   "outputs": [],
   "source": [
    "users=tf.data.Dataset.from_tensor_slices(consumer_data[[\"item_id\",\"consumer_id\",\"rating\"]])\n",
    "users=users.map(lambda x: {\n",
    "    \"consumer_id\": x[1],\n",
    "    \"item_id\": x[0],\n",
    "    \"rating\": int(x[2])\n",
    "})"
   ]
  },
  {
   "cell_type": "code",
   "execution_count": 244,
   "id": "3ae0c5b1",
   "metadata": {},
   "outputs": [
    {
     "data": {
      "text/plain": [
       "<MapDataset element_spec={'consumer_id': TensorSpec(shape=(), dtype=tf.string, name=None), 'item_id': TensorSpec(shape=(), dtype=tf.string, name=None), 'rating': TensorSpec(shape=(), dtype=tf.int32, name=None)}>"
      ]
     },
     "execution_count": 244,
     "metadata": {},
     "output_type": "execute_result"
    }
   ],
   "source": [
    "users"
   ]
  },
  {
   "cell_type": "code",
   "execution_count": 245,
   "id": "0aa3da2e",
   "metadata": {},
   "outputs": [],
   "source": [
    "train = users.take(65000)\n",
    "test = users.skip(65000)"
   ]
  },
  {
   "cell_type": "code",
   "execution_count": 246,
   "id": "a8bb37b2",
   "metadata": {},
   "outputs": [],
   "source": [
    "yitems = users.batch(1_000).map(lambda x: x[\"item_id\"])\n",
    "xuser = users.batch(1_000).map(lambda x: x[\"consumer_id\"])\n",
    "\n",
    "unique_items = np.unique(np.concatenate(list(yitems)))\n",
    "unique_users = np.unique(np.concatenate(list(xuser)))"
   ]
  },
  {
   "cell_type": "code",
   "execution_count": 247,
   "id": "f4487b30",
   "metadata": {},
   "outputs": [],
   "source": [
    "class RankingModel(tf.keras.Model):\n",
    "\n",
    "  def __init__(self):\n",
    "    super().__init__()\n",
    "    embedding_dimension = 32\n",
    "\n",
    "    # Compute embeddings for users.\n",
    "    self.user_embeddings = tf.keras.Sequential([\n",
    "      tf.keras.layers.StringLookup(\n",
    "        vocabulary=unique_users, mask_token=None),\n",
    "      tf.keras.layers.Embedding(len(unique_users) + 1, embedding_dimension)\n",
    "    ])\n",
    "\n",
    "    \n",
    "    self.candidate_embeddings = tf.keras.Sequential([\n",
    "      tf.keras.layers.StringLookup(\n",
    "        vocabulary=unique_items, mask_token=None),\n",
    "      tf.keras.layers.Embedding(len(unique_items) + 1, embedding_dimension)\n",
    "    ])\n",
    "\n",
    "    # Compute predictions.\n",
    "    self.ratings = tf.keras.Sequential([\n",
    "      # Learn multiple dense layers.\n",
    "      tf.keras.layers.Dense(256, activation=\"relu\"),\n",
    "      tf.keras.layers.Dense(64, activation=\"relu\"),\n",
    "      tf.keras.layers.Dense(32, activation=\"relu\"),\n",
    "      # Make rating predictions in the final layer.\n",
    "      tf.keras.layers.Dense(1)\n",
    "  ])\n",
    "\n",
    "  def call(self, inputs):\n",
    "\n",
    "    user_id, item_id = inputs\n",
    "\n",
    "    user_embedding = self.user_embeddings(user_id)\n",
    "    candidate_embeddings = self.candidate_embeddings(item_id)\n",
    "\n",
    "    return self.ratings(tf.concat([user_embedding, candidate_embeddings], axis=1))"
   ]
  },
  {
   "cell_type": "code",
   "execution_count": 248,
   "id": "750e04be",
   "metadata": {},
   "outputs": [
    {
     "name": "stdout",
     "output_type": "stream",
     "text": [
      "WARNING:tensorflow:Layers in a Sequential model should only have a single input tensor. Received: inputs=['-8845298781299428018']. Consider rewriting this model with the Functional API.\n",
      "WARNING:tensorflow:Layers in a Sequential model should only have a single input tensor. Received: inputs=['8890720798209849691']. Consider rewriting this model with the Functional API.\n"
     ]
    },
    {
     "data": {
      "text/plain": [
       "<tf.Tensor: shape=(1, 1), dtype=float32, numpy=array([[-0.02246787]], dtype=float32)>"
      ]
     },
     "execution_count": 248,
     "metadata": {},
     "output_type": "execute_result"
    }
   ],
   "source": [
    "#This model takes user ids and movie titles, and outputs a predicted rating:\n",
    "RankingModel()(([\"-8845298781299428018\"], [\"8890720798209849691\"]))"
   ]
  },
  {
   "cell_type": "code",
   "execution_count": 249,
   "id": "10bea04f",
   "metadata": {},
   "outputs": [],
   "source": [
    "class Model3(tfrs.models.Model):\n",
    "\n",
    "  def __init__(self):\n",
    "    super().__init__()\n",
    "    self.ranking_model: tf.keras.Model = RankingModel()\n",
    "    self.task: tf.keras.layers.Layer = tfrs.tasks.Ranking(\n",
    "      loss = tf.keras.losses.MeanSquaredError(),\n",
    "      metrics=[tf.keras.metrics.RootMeanSquaredError()]\n",
    "    )\n",
    "\n",
    "  def call(self, features: Dict[str, tf.Tensor]) -> tf.Tensor:\n",
    "    return self.ranking_model(\n",
    "        (features[\"consumer_id\"], features[\"item_id\"]))\n",
    "\n",
    "  def compute_loss(self, features: Dict[Text, tf.Tensor], training=False) -> tf.Tensor:\n",
    "    labels = features.pop(\"rating\")\n",
    "\n",
    "    rating_predictions = self(features)\n",
    "\n",
    "    # The task computes the loss and the metrics.\n",
    "    return self.task(labels=labels, predictions=rating_predictions)"
   ]
  },
  {
   "cell_type": "code",
   "execution_count": 250,
   "id": "76a19242",
   "metadata": {},
   "outputs": [],
   "source": [
    "model = Model3()\n",
    "model.compile(optimizer=tf.keras.optimizers.Adagrad(learning_rate=0.1))"
   ]
  },
  {
   "cell_type": "code",
   "execution_count": 251,
   "id": "f31ef454",
   "metadata": {},
   "outputs": [],
   "source": [
    "cached_train = train.shuffle(100000).batch(2048).cache()\n",
    "cached_test = test.batch(1000).cache()"
   ]
  },
  {
   "cell_type": "code",
   "execution_count": 252,
   "id": "2a2f7e48",
   "metadata": {
    "scrolled": true
   },
   "outputs": [
    {
     "name": "stdout",
     "output_type": "stream",
     "text": [
      "Epoch 1/20\n",
      "32/32 [==============================] - 3s 20ms/step - root_mean_squared_error: 1.1597 - loss: 1.3095 - regularization_loss: 0.0000e+00 - total_loss: 1.3095\n",
      "Epoch 2/20\n",
      "32/32 [==============================] - 0s 15ms/step - root_mean_squared_error: 0.6434 - loss: 0.4141 - regularization_loss: 0.0000e+00 - total_loss: 0.4141\n",
      "Epoch 3/20\n",
      "32/32 [==============================] - 0s 15ms/step - root_mean_squared_error: 0.6413 - loss: 0.4113 - regularization_loss: 0.0000e+00 - total_loss: 0.4113\n",
      "Epoch 4/20\n",
      "32/32 [==============================] - 0s 14ms/step - root_mean_squared_error: 0.6388 - loss: 0.4081 - regularization_loss: 0.0000e+00 - total_loss: 0.4081\n",
      "Epoch 5/20\n",
      "32/32 [==============================] - 0s 15ms/step - root_mean_squared_error: 0.6363 - loss: 0.4050 - regularization_loss: 0.0000e+00 - total_loss: 0.4050\n",
      "Epoch 6/20\n",
      "32/32 [==============================] - 1s 19ms/step - root_mean_squared_error: 0.6343 - loss: 0.4023 - regularization_loss: 0.0000e+00 - total_loss: 0.4023\n",
      "Epoch 7/20\n",
      "32/32 [==============================] - 1s 16ms/step - root_mean_squared_error: 0.6328 - loss: 0.4003 - regularization_loss: 0.0000e+00 - total_loss: 0.4003\n",
      "Epoch 8/20\n",
      "32/32 [==============================] - 0s 15ms/step - root_mean_squared_error: 0.6314 - loss: 0.3985 - regularization_loss: 0.0000e+00 - total_loss: 0.3985\n",
      "Epoch 9/20\n",
      "32/32 [==============================] - 1s 16ms/step - root_mean_squared_error: 0.6296 - loss: 0.3963 - regularization_loss: 0.0000e+00 - total_loss: 0.3963\n",
      "Epoch 10/20\n",
      "32/32 [==============================] - 1s 17ms/step - root_mean_squared_error: 0.6280 - loss: 0.3943 - regularization_loss: 0.0000e+00 - total_loss: 0.3943\n",
      "Epoch 11/20\n",
      "32/32 [==============================] - 0s 15ms/step - root_mean_squared_error: 0.6267 - loss: 0.3927 - regularization_loss: 0.0000e+00 - total_loss: 0.3927\n",
      "Epoch 12/20\n",
      "32/32 [==============================] - 1s 17ms/step - root_mean_squared_error: 0.6256 - loss: 0.3912 - regularization_loss: 0.0000e+00 - total_loss: 0.3912\n",
      "Epoch 13/20\n",
      "32/32 [==============================] - 1s 17ms/step - root_mean_squared_error: 0.6245 - loss: 0.3899 - regularization_loss: 0.0000e+00 - total_loss: 0.3899\n",
      "Epoch 14/20\n",
      "32/32 [==============================] - 1s 17ms/step - root_mean_squared_error: 0.6235 - loss: 0.3886 - regularization_loss: 0.0000e+00 - total_loss: 0.3886\n",
      "Epoch 15/20\n",
      "32/32 [==============================] - 1s 17ms/step - root_mean_squared_error: 0.6226 - loss: 0.3875 - regularization_loss: 0.0000e+00 - total_loss: 0.3875\n",
      "Epoch 16/20\n",
      "32/32 [==============================] - 1s 17ms/step - root_mean_squared_error: 0.6217 - loss: 0.3864 - regularization_loss: 0.0000e+00 - total_loss: 0.3864\n",
      "Epoch 17/20\n",
      "32/32 [==============================] - 1s 16ms/step - root_mean_squared_error: 0.6209 - loss: 0.3854 - regularization_loss: 0.0000e+00 - total_loss: 0.3854\n",
      "Epoch 18/20\n",
      "32/32 [==============================] - 1s 16ms/step - root_mean_squared_error: 0.6201 - loss: 0.3844 - regularization_loss: 0.0000e+00 - total_loss: 0.3844\n",
      "Epoch 19/20\n",
      "32/32 [==============================] - 1s 16ms/step - root_mean_squared_error: 0.6194 - loss: 0.3834 - regularization_loss: 0.0000e+00 - total_loss: 0.3834\n",
      "Epoch 20/20\n",
      "32/32 [==============================] - 0s 15ms/step - root_mean_squared_error: 0.6186 - loss: 0.3825 - regularization_loss: 0.0000e+00 - total_loss: 0.3825\n"
     ]
    },
    {
     "data": {
      "text/plain": [
       "<keras.callbacks.History at 0x20c26108f88>"
      ]
     },
     "execution_count": 252,
     "metadata": {},
     "output_type": "execute_result"
    }
   ],
   "source": [
    "model.fit(cached_train, epochs=20)"
   ]
  },
  {
   "cell_type": "code",
   "execution_count": 253,
   "id": "b6b25aa4",
   "metadata": {},
   "outputs": [
    {
     "name": "stdout",
     "output_type": "stream",
     "text": [
      "8/8 [==============================] - 3s 31ms/step - root_mean_squared_error: 0.6462 - loss: 0.4400 - regularization_loss: 0.0000e+00 - total_loss: 0.4400\n"
     ]
    },
    {
     "data": {
      "text/plain": [
       "{'root_mean_squared_error': 0.6462299227714539,\n",
       " 'loss': 0.5371559262275696,\n",
       " 'regularization_loss': 0,\n",
       " 'total_loss': 0.5371559262275696}"
      ]
     },
     "execution_count": 253,
     "metadata": {},
     "output_type": "execute_result"
    }
   ],
   "source": [
    "model.evaluate(cached_test, return_dict=True)"
   ]
  },
  {
   "cell_type": "code",
   "execution_count": 254,
   "id": "d1e0c125",
   "metadata": {},
   "outputs": [],
   "source": [
    "#Testing the ranking model"
   ]
  },
  {
   "cell_type": "code",
   "execution_count": 255,
   "id": "29f8b2f4",
   "metadata": {},
   "outputs": [
    {
     "data": {
      "text/html": [
       "<div>\n",
       "<style scoped>\n",
       "    .dataframe tbody tr th:only-of-type {\n",
       "        vertical-align: middle;\n",
       "    }\n",
       "\n",
       "    .dataframe tbody tr th {\n",
       "        vertical-align: top;\n",
       "    }\n",
       "\n",
       "    .dataframe thead th {\n",
       "        text-align: right;\n",
       "    }\n",
       "</style>\n",
       "<table border=\"1\" class=\"dataframe\">\n",
       "  <thead>\n",
       "    <tr style=\"text-align: right;\">\n",
       "      <th></th>\n",
       "      <th>interaction_type</th>\n",
       "      <th>item_id</th>\n",
       "      <th>consumer_id</th>\n",
       "      <th>rating</th>\n",
       "    </tr>\n",
       "  </thead>\n",
       "  <tbody>\n",
       "    <tr>\n",
       "      <th>0</th>\n",
       "      <td>content_watched</td>\n",
       "      <td>-3499919498720038879</td>\n",
       "      <td>-8845298781299428018</td>\n",
       "      <td>3</td>\n",
       "    </tr>\n",
       "    <tr>\n",
       "      <th>1</th>\n",
       "      <td>content_watched</td>\n",
       "      <td>8890720798209849691</td>\n",
       "      <td>-1032019229384696495</td>\n",
       "      <td>3</td>\n",
       "    </tr>\n",
       "    <tr>\n",
       "      <th>2</th>\n",
       "      <td>content_watched</td>\n",
       "      <td>310515487419366995</td>\n",
       "      <td>-1130272294246983140</td>\n",
       "      <td>3</td>\n",
       "    </tr>\n",
       "    <tr>\n",
       "      <th>3</th>\n",
       "      <td>content_followed</td>\n",
       "      <td>310515487419366995</td>\n",
       "      <td>344280948527967603</td>\n",
       "      <td>5</td>\n",
       "    </tr>\n",
       "    <tr>\n",
       "      <th>4</th>\n",
       "      <td>content_watched</td>\n",
       "      <td>-7820640624231356730</td>\n",
       "      <td>-445337111692715325</td>\n",
       "      <td>3</td>\n",
       "    </tr>\n",
       "    <tr>\n",
       "      <th>...</th>\n",
       "      <td>...</td>\n",
       "      <td>...</td>\n",
       "      <td>...</td>\n",
       "      <td>...</td>\n",
       "    </tr>\n",
       "    <tr>\n",
       "      <th>72307</th>\n",
       "      <td>content_liked</td>\n",
       "      <td>-6590819806697898649</td>\n",
       "      <td>-9016528795238256703</td>\n",
       "      <td>5</td>\n",
       "    </tr>\n",
       "    <tr>\n",
       "      <th>72308</th>\n",
       "      <td>content_watched</td>\n",
       "      <td>-5813211845057621660</td>\n",
       "      <td>102305705598210278</td>\n",
       "      <td>3</td>\n",
       "    </tr>\n",
       "    <tr>\n",
       "      <th>72309</th>\n",
       "      <td>content_watched</td>\n",
       "      <td>-1999468346928419252</td>\n",
       "      <td>-9196668942822132778</td>\n",
       "      <td>3</td>\n",
       "    </tr>\n",
       "    <tr>\n",
       "      <th>72310</th>\n",
       "      <td>content_watched</td>\n",
       "      <td>-6590819806697898649</td>\n",
       "      <td>-9016528795238256703</td>\n",
       "      <td>3</td>\n",
       "    </tr>\n",
       "    <tr>\n",
       "      <th>72311</th>\n",
       "      <td>content_watched</td>\n",
       "      <td>5669290109546991426</td>\n",
       "      <td>5713241217519616260</td>\n",
       "      <td>3</td>\n",
       "    </tr>\n",
       "  </tbody>\n",
       "</table>\n",
       "<p>72312 rows × 4 columns</p>\n",
       "</div>"
      ],
      "text/plain": [
       "       interaction_type               item_id           consumer_id rating\n",
       "0       content_watched  -3499919498720038879  -8845298781299428018      3\n",
       "1       content_watched   8890720798209849691  -1032019229384696495      3\n",
       "2       content_watched    310515487419366995  -1130272294246983140      3\n",
       "3      content_followed    310515487419366995    344280948527967603      5\n",
       "4       content_watched  -7820640624231356730   -445337111692715325      3\n",
       "...                 ...                   ...                   ...    ...\n",
       "72307     content_liked  -6590819806697898649  -9016528795238256703      5\n",
       "72308   content_watched  -5813211845057621660    102305705598210278      3\n",
       "72309   content_watched  -1999468346928419252  -9196668942822132778      3\n",
       "72310   content_watched  -6590819806697898649  -9016528795238256703      3\n",
       "72311   content_watched   5669290109546991426   5713241217519616260      3\n",
       "\n",
       "[72312 rows x 4 columns]"
      ]
     },
     "execution_count": 255,
     "metadata": {},
     "output_type": "execute_result"
    }
   ],
   "source": [
    "consumer_data"
   ]
  },
  {
   "cell_type": "code",
   "execution_count": 256,
   "id": "9db5a485",
   "metadata": {},
   "outputs": [
    {
     "name": "stdout",
     "output_type": "stream",
     "text": [
      "Ratings:\n",
      "310515487419366995: [[3.518589]]\n",
      "-3499919498720038879\t: [[3.4054434]]\n",
      "-1999468346928419252: [[3.3590615]]\n"
     ]
    }
   ],
   "source": [
    "test_ratings = {}\n",
    "test_id = [\"-1999468346928419252\", \"310515487419366995\", \"-3499919498720038879\t\"]\n",
    "for iid in test_id:\n",
    "  test_ratings[iid] = model({\n",
    "      \"consumer_id\": np.array([\"-8845298781299428018\"]),\n",
    "      \"item_id\": np.array([iid])\n",
    "  })\n",
    "\n",
    "print(\"Ratings:\")\n",
    "for title, score in sorted(test_ratings.items(), key=lambda x: x[1], reverse=True):\n",
    "  print(f\"{title}: {score}\")"
   ]
  },
  {
   "cell_type": "code",
   "execution_count": 257,
   "id": "3dd85526",
   "metadata": {},
   "outputs": [],
   "source": [
    "#based on the aobvce results it looks like model works :)"
   ]
  },
  {
   "cell_type": "code",
   "execution_count": null,
   "id": "1fb49705",
   "metadata": {},
   "outputs": [],
   "source": []
  }
 ],
 "metadata": {
  "kernelspec": {
   "display_name": "Python 3 (ipykernel)",
   "language": "python",
   "name": "python3"
  },
  "language_info": {
   "codemirror_mode": {
    "name": "ipython",
    "version": 3
   },
   "file_extension": ".py",
   "mimetype": "text/x-python",
   "name": "python",
   "nbconvert_exporter": "python",
   "pygments_lexer": "ipython3",
   "version": "3.7.9"
  }
 },
 "nbformat": 4,
 "nbformat_minor": 5
}
